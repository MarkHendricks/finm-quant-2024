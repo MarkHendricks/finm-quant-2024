{
 "cells": [
  {
   "cell_type": "markdown",
   "id": "02404ed4",
   "metadata": {},
   "source": [
    "# Discussion of Portfolio Optimization with Asset Bounds\n",
    "## Via the HBS Case: Harvard and Inflation-Indexed Bonds\n",
    "\n",
    "### Mark Hendricks\n",
    "#### Summer 2024"
   ]
  },
  {
   "cell_type": "code",
   "execution_count": 1,
   "id": "7e9728e2",
   "metadata": {
    "jupyter": {
     "source_hidden": true
    }
   },
   "outputs": [],
   "source": [
    "import pandas as pd\n",
    "import numpy as np\n",
    "import warnings\n",
    "from scipy.optimize import minimize"
   ]
  },
  {
   "cell_type": "markdown",
   "id": "e6f9c719",
   "metadata": {},
   "source": [
    "# Data Processing\n",
    "\n",
    "## Organize Return Statistics as provided in the Harvard Case\n",
    "- Assumed (Exhibit 4)\n",
    "- Historic (Exhibit 2)\n",
    "\n",
    "The exhibits are a mess when loaded, function below cleans them up and returns the relevant data.\n",
    "\n",
    "#### Problem with Data in Exhibit 2\n",
    "Note: The historic correlation matrix in Exhibit 2 **is not positive definite!**\n",
    "- This is clearly a mistake in the exhibit.\n",
    "- It does not cause an obvious problem with the results below.\n",
    "- But if you compare the analytic MV solution with a numerical optimization of the classic MV problem (no bounds) one sees that the numerical optimizer can take advantage of the matrix being negative definite to achieve a negative variance!\n",
    "- Thus, the numerically optimized solution with constraints is suspect.\n",
    "\n",
    "**Thus, the analysis with \"Historic\" data from Exhibit 2 should be taken with a grain of salt.** Yet it still illustrates the concept."
   ]
  },
  {
   "cell_type": "code",
   "execution_count": 2,
   "id": "981d217a",
   "metadata": {
    "jupyter": {
     "source_hidden": true
    }
   },
   "outputs": [],
   "source": [
    "def read_harvard_stats_exhibit(df,description=None):\n",
    "\n",
    "    # get the portion of the exhibit with actual data\n",
    "    df.dropna(subset=[df.columns[0]],axis=0,how='any',inplace=True)\n",
    "    df.set_index(df.columns[0],inplace=True)\n",
    "    df.dropna(axis=1,how='all',inplace=True)\n",
    "    df.dropna(axis=0,how='all',inplace=True)\n",
    "    df.set_index(df.columns[0],inplace=True)\n",
    "    df.index.name = description\n",
    "    \n",
    "    # deal with typos and bad formatting from the case exhbit\n",
    "    if description == 'Assumed Stats':\n",
    "        df.rename({'Infl-Indexed Bonds':'Inflation-Indexed Bonds'},axis=0,inplace=True)\n",
    "    elif description == 'Historic Stats':\n",
    "        df.rename({'Absolute Returnb':'Absolute Return', 'High Yieldb':'High Yield', 'Foreign Bondsb':'Foreign Bonds'},axis=0, inplace=True)\n",
    "\n",
    "    # organize data\n",
    "    df.columns = ['Mean','Vol'] + list(df.index)\n",
    "\n",
    "    df = df.astype('float64')\n",
    "    corr = df.drop(columns=['Mean','Vol'])\n",
    "    \n",
    "    ### Force the correlation matrix in Exhibit 2 to be positive definite\n",
    "    HIST_CORR_FIX = [.80,.85]\n",
    "    if description == 'Historic Stats':\n",
    "        corr.loc['Absolute Return',['Domestic Equity','Foreign Equity']] = HIST_CORR_FIX\n",
    "        corr.loc[['Domestic Equity','Foreign Equity'],'Absolute Return'] = HIST_CORR_FIX\n",
    "    \n",
    "    vol = df['Vol'] / 100\n",
    "    mean = df['Mean'] / 100\n",
    "    cov = corr * (np.outer(vol, vol.T))\n",
    "    \n",
    "    return {'mean':mean, 'vol':vol, 'cov':cov, 'corr':corr}"
   ]
  },
  {
   "cell_type": "markdown",
   "id": "02687d35",
   "metadata": {},
   "source": [
    "## Organize Optimization Parameters\n",
    "### Also read in the HBS Solutions"
   ]
  },
  {
   "cell_type": "code",
   "execution_count": 3,
   "id": "d808a560",
   "metadata": {
    "jupyter": {
     "source_hidden": true
    }
   },
   "outputs": [],
   "source": [
    "def read_harvard_optimization_exhibit(df, description = None):\n",
    "    df = df.dropna(axis=1,how='all').dropna(axis=0,how='all').set_index(df.columns[0])\n",
    "    df.columns = df.iloc[-4,:]/100\n",
    "    df = df.loc[cov.index]\n",
    "\n",
    "    if description == 'Historic Stats':\n",
    "        df.drop(index='Inflation-Indexed Bonds',inplace=True)\n",
    "        \n",
    "    hbs_solutions = df.loc[:,df.columns.notnull()]/100\n",
    "    hbs_solutions.index.name = 'weights'\n",
    "\n",
    "    bounds_df = df.iloc[:,-2:]\n",
    "    if description == 'Policy':\n",
    "        bounds_df /= 100\n",
    "    bounds_df.columns = ['Min','Max']\n",
    "    bounds_df.index.name = description\n",
    "    \n",
    "    return bounds_df, hbs_solutions"
   ]
  },
  {
   "cell_type": "markdown",
   "id": "907029fc",
   "metadata": {},
   "source": [
    "## Case has 4 combinations\n",
    "### Two types of statistics\n",
    "- Historic\n",
    "- Assumed\n",
    "\n",
    "### Two sets of bounds\n",
    "- Long-only\n",
    "- Policy\n",
    "\n",
    "Our main focus, like that of case, is\n",
    "- Assumed stats\n",
    "- Policy constraints"
   ]
  },
  {
   "cell_type": "code",
   "execution_count": 4,
   "id": "c8617154",
   "metadata": {
    "jupyter": {
     "source_hidden": true
    }
   },
   "outputs": [],
   "source": [
    "DATAFILE = '../data/harvard_tips_exhibits.xlsx'\n",
    "\n",
    "USE_HISTORIC_STATS = False\n",
    "USE_LONGONLY_CONSTRAINT = False"
   ]
  },
  {
   "cell_type": "code",
   "execution_count": 5,
   "id": "36a4d9a1",
   "metadata": {
    "jupyter": {
     "source_hidden": true
    }
   },
   "outputs": [],
   "source": [
    "if USE_HISTORIC_STATS:\n",
    "    sheet_stats = 'Exhibit 2'\n",
    "    stats_description = 'Historic Stats'\n",
    "else:\n",
    "    sheet_stats = 'Exhibit 4'\n",
    "    stats_description = 'Assumed Stats'\n",
    "\n",
    "if USE_LONGONLY_CONSTRAINT:\n",
    "    sheet_constraint = 'Exhibit 5'\n",
    "    constraint_description = 'Long-Only'\n",
    "else:\n",
    "    sheet_constraint = 'Exhibit 6'\n",
    "    constraint_description = 'Policy'"
   ]
  },
  {
   "cell_type": "code",
   "execution_count": 6,
   "id": "46309b14",
   "metadata": {
    "jupyter": {
     "source_hidden": true
    }
   },
   "outputs": [],
   "source": [
    "with warnings.catch_warnings():\n",
    "    warnings.simplefilter('ignore')\n",
    "\n",
    "    rawdata_stats = pd.read_excel(DATAFILE,sheet_name=sheet_stats)\n",
    "    rawdata_opt = pd.read_excel(DATAFILE,sheet_name=sheet_constraint)\n",
    "\n",
    "output_stats = read_harvard_stats_exhibit(rawdata_stats, description = stats_description)    \n",
    "mean = output_stats['mean']\n",
    "cov = output_stats['cov']\n",
    "nAssets = mean.shape[0]\n",
    "\n",
    "bounds_df, hbs_solutions = read_harvard_optimization_exhibit(rawdata_opt, description = constraint_description)"
   ]
  },
  {
   "cell_type": "markdown",
   "id": "0b1004cf",
   "metadata": {},
   "source": [
    "# Constrained Optimization\n",
    "\n",
    "### Objective\n",
    "Minimize portfolio variance. \n",
    "- Portfolio weights: $\\boldsymbol{w}$\n",
    "- Return covariance matrix: $\\boldsymbol{\\Sigma}$\n",
    "$$f(\\boldsymbol{w}) = \\boldsymbol{w}' \\boldsymbol{\\Sigma} \\boldsymbol{w}$$"
   ]
  },
  {
   "cell_type": "code",
   "execution_count": 7,
   "id": "593f8043",
   "metadata": {
    "jupyter": {
     "source_hidden": true
    }
   },
   "outputs": [],
   "source": [
    "def objective(w):        \n",
    "    return (w.T @ cov @ w)"
   ]
  },
  {
   "cell_type": "markdown",
   "id": "fd1c917d",
   "metadata": {},
   "source": [
    "### Constraints\n",
    "\n",
    "#### Equality Constraints\n",
    "- Targeted mean for the optimized portfolio: $\\mu_p$\n",
    "Define the following two functions:\n",
    "$$g_{1}(\\boldsymbol{w}) \\equiv \\boldsymbol{1}'\\boldsymbol{w}$$\n",
    "$$g_{2}(\\boldsymbol{w}) \\equiv \\boldsymbol{\\mu}'\\boldsymbol{w}$$\n",
    "\n",
    "These are imposed as equality constraints:\n",
    "$$g_1(\\boldsymbol{w}) = 1$$\n",
    "$$g_2(\\boldsymbol{w}) = \\mu_p$$\n",
    "\n",
    "#### Target mean\n",
    "Below we analyze the problem for a target mean return of\n",
    "- 8% if using the assume stats\n",
    "- 12% if using the historic stats\n",
    "The reason for the difference is that the historic stats are **much** more favorable, and it is easy to generate high mean returns."
   ]
  },
  {
   "cell_type": "code",
   "execution_count": 8,
   "id": "101d625c",
   "metadata": {
    "jupyter": {
     "source_hidden": true
    }
   },
   "outputs": [],
   "source": [
    "if USE_HISTORIC_STATS:\n",
    "    TARGET_MEAN = 0.12\n",
    "else:\n",
    "    TARGET_MEAN = 0.07\n",
    "\n",
    "def fun_constraint_capital(w):\n",
    "    return np.sum(w) - 1\n",
    "\n",
    "def fun_constraint_mean(w):\n",
    "    return (mean @ w) - TARGET_MEAN\n",
    "\n",
    "constraint_capital = {'type': 'eq', 'fun': fun_constraint_capital}\n",
    "constraint_mean = {'type': 'eq', 'fun': fun_constraint_mean}\n",
    "\n",
    "cons = ([constraint_capital, constraint_mean])"
   ]
  },
  {
   "cell_type": "markdown",
   "id": "315436bb",
   "metadata": {},
   "source": [
    "### Inequality Constraints\n",
    "\n",
    "**This cell's notation and setup is overkill for the simplicity of these constraints, but is noted here for more general problems.**\n",
    "\n",
    "- Denote the $k\\times k$ identity matrix as $\\mathcal{I}_k$\n",
    "- Denote the $i$ column of the identity matrix as $\\boldsymbol{\\iota}_i$\n",
    "\n",
    "Define the following $k$ functions, for $1\\le i\\le n$: \n",
    "$$h_i(\\boldsymbol{w}) \\equiv \\boldsymbol{\\iota}_i' \\boldsymbol{w}$$\n",
    "For each $i$, we use the upper and lower inequality constraints:\n",
    "$$h_i(\\boldsymbol{w}) \\le d_i^{\\text{max}}$$\n",
    "$$h_i(\\boldsymbol{w}) \\ge d_i^{\\text{min}}$$\n",
    "\n",
    "Stack the constraints into matrix notation. The inequality constraint functions are linear:\n",
    "$$\\boldsymbol{h}(\\boldsymbol{w}) \\equiv \\mathcal{I}_k \\boldsymbol{w}$$\n",
    "and there are $2n$ total of them--$n$ upper and $n$ lower:\n",
    "$$\\boldsymbol{h}(\\boldsymbol{w}) \\le \\boldsymbol{d}^{\\text{max}}$$\n",
    "$$\\boldsymbol{h}(\\boldsymbol{w}) \\ge \\boldsymbol{d}^{\\text{min}}$$"
   ]
  },
  {
   "cell_type": "markdown",
   "id": "4f3d1ae5",
   "metadata": {},
   "source": [
    "### Boundary Constraints\n",
    "\n",
    "Given that the inequality constraint functions are all linear, these constraints are simply boundary conditions.\n",
    "\n",
    "The `scipy` package `minimize` implements boundary constraints specifically, via an iteration of tuples:"
   ]
  },
  {
   "cell_type": "code",
   "execution_count": 9,
   "id": "462210bb",
   "metadata": {
    "jupyter": {
     "source_hidden": true
    }
   },
   "outputs": [],
   "source": [
    "bounds = [tuple(bounds_df.iloc[i,:].values) for i in range(nAssets)]"
   ]
  },
  {
   "cell_type": "markdown",
   "id": "45c99e30",
   "metadata": {},
   "source": [
    "## Solution\n",
    "\n",
    "#### Default Tolerance\n",
    "- Default tolerance is fine here, but be careful. Variance minimization for daily or even monthly variance leads to extremely small scaling of the objective function, and often the default tolerance will not be sufficient.\n",
    "- Even in the example below, making the tolerance stricter impacts the weights to the second decimal place.\n",
    "\n",
    "#### Method\n",
    "- For the data given here the problem is not too hard to solve, so many methods will work fine.\n",
    "- If using high dimensionality, nearly singular determinant, etc, it may matter more.\n",
    "- Below we use `SLSQP` as it is fast and fairly robust for this application.\n",
    "- At the end, we redo the optimization using `trust-constr` solely for the fact that this method automatically returns the Lagrange Multipliers which are useful for pedagogical reasons.\n",
    "\n",
    "#### Initialize\n",
    "- Try equally-weighted portfolio\n",
    "- This satisfies the Long-Only constraint.\n",
    "- May not satisfy the Policy constraint, but this problem is well-behaved, so it will be good enough as an initial guess\n",
    "\n",
    "#### Verify!\n",
    "- In a serious application, we would code the problem to verify that the answer returned by the solution is a \"success\" (obeys all the constraints) rather than a failed attempt. Try changing `TARGET_MEAN` to a big number, and you will see the optimizer fail to hit the target and obey the constraints."
   ]
  },
  {
   "cell_type": "code",
   "execution_count": 10,
   "id": "5d2380e6",
   "metadata": {
    "jupyter": {
     "source_hidden": true
    }
   },
   "outputs": [
    {
     "name": "stdout",
     "output_type": "stream",
     "text": [
      "Optimization SUCCESSFUL.\n",
      "Iterations: 31.\n"
     ]
    }
   ],
   "source": [
    "TOL = 1e-12\n",
    "METHOD = 'SLSQP'\n",
    "\n",
    "w0 = np.ones(nAssets) / nAssets\n",
    "\n",
    "solution = minimize(objective, w0, method=METHOD, bounds=bounds,constraints=cons, tol=TOL)\n",
    "wstar = pd.DataFrame(data=solution.x, index=cov.columns, columns=['Bounded: Numerical'])\n",
    "\n",
    "if solution.success:\n",
    "    print('Optimization SUCCESSFUL.')\n",
    "else:\n",
    "    print('Optimization FAILED.')\n",
    "\n",
    "print(f'Iterations: {solution.nit}.')"
   ]
  },
  {
   "cell_type": "markdown",
   "id": "291449b4",
   "metadata": {},
   "source": [
    "# Other Solutions for Comparison\n",
    "\n",
    "#### HBS Case Exhibit Solution\n",
    "Compare to Exhibits 5 and 6.\n",
    "- Only applicable if `USE_HISTORIC_STATS` is `False`.\n",
    "- (Case does not provide their solutions when using Historic data.)\n",
    "\n",
    "#### Classic MV via Numerical Optimization\n",
    "Solve numerically by dropping the inequality (bounds) constraints in `minimize`.\n",
    "- Only applicable if `USE_HISTORIC_STATS` is `False`. \n",
    "- (Exhibit 2 correlation matrix is not positive definite.)\n",
    "\n",
    "#### Analytic MV solution for verification.\n",
    "- Calculate this on your own.\n",
    "- The function doing it below is not available to you.\n",
    "- If `USE_HISTORIC_STATS` is `True`, computation may not work correctly, but it is attempted.\n",
    "\n",
    "#### Equal-weighted\n",
    "- Just for illustration. "
   ]
  },
  {
   "cell_type": "code",
   "execution_count": 11,
   "id": "58a2b923",
   "metadata": {
    "jupyter": {
     "source_hidden": true
    }
   },
   "outputs": [],
   "source": [
    "if sheet_stats == 'Exhibit 4' and TARGET_MEAN in hbs_solutions.columns:\n",
    "    wstar['Bounded: Case'] = hbs_solutions[TARGET_MEAN]   "
   ]
  },
  {
   "cell_type": "code",
   "execution_count": 12,
   "id": "17a664a7",
   "metadata": {
    "jupyter": {
     "source_hidden": true
    }
   },
   "outputs": [
    {
     "name": "stdout",
     "output_type": "stream",
     "text": [
      "Optimization SUCCESSFUL.\n",
      "Iterations: 63.\n"
     ]
    }
   ],
   "source": [
    "if not USE_HISTORIC_STATS:\n",
    "    METHOD = 'SLSQP'\n",
    "    TOL = 1e-12\n",
    "    w0 = np.ones(nAssets) / nAssets\n",
    "\n",
    "    solutionMV = minimize(objective, w0, method=METHOD, constraints=cons, tol=TOL)\n",
    "    wstar['MV: Numerical'] = solutionMV.x\n",
    "    \n",
    "    if solutionMV.success:\n",
    "        print('Optimization SUCCESSFUL.')\n",
    "    else:\n",
    "        print('Optimization FAILED.')\n",
    "\n",
    "    print(f'Iterations: {solutionMV.nit}.')"
   ]
  },
  {
   "cell_type": "code",
   "execution_count": 13,
   "id": "a9459adc",
   "metadata": {
    "jupyter": {
     "source_hidden": true
    }
   },
   "outputs": [],
   "source": [
    "import os\n",
    "import sys\n",
    "if os.path.isfile('../dev/extras.py'):\n",
    "    sys.path.insert(0, '../dev')\n",
    "    from extras import MVweights\n",
    "    wstar['MV: Analytic'] = MVweights(mean=mean,cov=cov,isexcess=False,target=TARGET_MEAN)"
   ]
  },
  {
   "cell_type": "code",
   "execution_count": 14,
   "id": "6edb4a67",
   "metadata": {
    "jupyter": {
     "source_hidden": true
    }
   },
   "outputs": [],
   "source": [
    "wstar.insert(0,'Equally-Weighted',w0)"
   ]
  },
  {
   "cell_type": "markdown",
   "id": "5e9cb7a1",
   "metadata": {},
   "source": [
    "# Results\n",
    "\n",
    "### Optimized Weights Comparison"
   ]
  },
  {
   "cell_type": "code",
   "execution_count": 15,
   "id": "acceabb2",
   "metadata": {
    "jupyter": {
     "source_hidden": true
    }
   },
   "outputs": [
    {
     "data": {
      "text/html": [
       "<style  type=\"text/css\" >\n",
       "</style><table id=\"T_9b8b9_\" ><thead>    <tr>        <th class=\"blank level0\" ></th>        <th class=\"col_heading level0 col0\" >Equally-Weighted</th>        <th class=\"col_heading level0 col1\" >Bounded: Numerical</th>        <th class=\"col_heading level0 col2\" >Bounded: Case</th>        <th class=\"col_heading level0 col3\" >MV: Numerical</th>        <th class=\"col_heading level0 col4\" >MV: Analytic</th>    </tr></thead><tbody>\n",
       "                <tr>\n",
       "                        <th id=\"T_9b8b9_level0_row0\" class=\"row_heading level0 row0\" >Domestic Equity</th>\n",
       "                        <td id=\"T_9b8b9_row0_col0\" class=\"data row0 col0\" >8.33%</td>\n",
       "                        <td id=\"T_9b8b9_row0_col1\" class=\"data row0 col1\" >22.00%</td>\n",
       "                        <td id=\"T_9b8b9_row0_col2\" class=\"data row0 col2\" >22.00%</td>\n",
       "                        <td id=\"T_9b8b9_row0_col3\" class=\"data row0 col3\" >-0.05%</td>\n",
       "                        <td id=\"T_9b8b9_row0_col4\" class=\"data row0 col4\" >-0.05%</td>\n",
       "            </tr>\n",
       "            <tr>\n",
       "                        <th id=\"T_9b8b9_level0_row1\" class=\"row_heading level0 row1\" >Foreign Equity</th>\n",
       "                        <td id=\"T_9b8b9_row1_col0\" class=\"data row1 col0\" >8.33%</td>\n",
       "                        <td id=\"T_9b8b9_row1_col1\" class=\"data row1 col1\" >5.00%</td>\n",
       "                        <td id=\"T_9b8b9_row1_col2\" class=\"data row1 col2\" >5.00%</td>\n",
       "                        <td id=\"T_9b8b9_row1_col3\" class=\"data row1 col3\" >5.74%</td>\n",
       "                        <td id=\"T_9b8b9_row1_col4\" class=\"data row1 col4\" >5.74%</td>\n",
       "            </tr>\n",
       "            <tr>\n",
       "                        <th id=\"T_9b8b9_level0_row2\" class=\"row_heading level0 row2\" >Emerging Markets</th>\n",
       "                        <td id=\"T_9b8b9_row2_col0\" class=\"data row2 col0\" >8.33%</td>\n",
       "                        <td id=\"T_9b8b9_row2_col1\" class=\"data row2 col1\" >19.00%</td>\n",
       "                        <td id=\"T_9b8b9_row2_col2\" class=\"data row2 col2\" >19.00%</td>\n",
       "                        <td id=\"T_9b8b9_row2_col3\" class=\"data row2 col3\" >19.87%</td>\n",
       "                        <td id=\"T_9b8b9_row2_col4\" class=\"data row2 col4\" >19.87%</td>\n",
       "            </tr>\n",
       "            <tr>\n",
       "                        <th id=\"T_9b8b9_level0_row3\" class=\"row_heading level0 row3\" >Private Equity</th>\n",
       "                        <td id=\"T_9b8b9_row3_col0\" class=\"data row3 col0\" >8.33%</td>\n",
       "                        <td id=\"T_9b8b9_row3_col1\" class=\"data row3 col1\" >22.83%</td>\n",
       "                        <td id=\"T_9b8b9_row3_col2\" class=\"data row3 col2\" >22.80%</td>\n",
       "                        <td id=\"T_9b8b9_row3_col3\" class=\"data row3 col3\" >22.01%</td>\n",
       "                        <td id=\"T_9b8b9_row3_col4\" class=\"data row3 col4\" >22.01%</td>\n",
       "            </tr>\n",
       "            <tr>\n",
       "                        <th id=\"T_9b8b9_level0_row4\" class=\"row_heading level0 row4\" >Absolute Return</th>\n",
       "                        <td id=\"T_9b8b9_row4_col0\" class=\"data row4 col0\" >8.33%</td>\n",
       "                        <td id=\"T_9b8b9_row4_col1\" class=\"data row4 col1\" >-6.00%</td>\n",
       "                        <td id=\"T_9b8b9_row4_col2\" class=\"data row4 col2\" >-6.00%</td>\n",
       "                        <td id=\"T_9b8b9_row4_col3\" class=\"data row4 col3\" >-0.65%</td>\n",
       "                        <td id=\"T_9b8b9_row4_col4\" class=\"data row4 col4\" >-0.65%</td>\n",
       "            </tr>\n",
       "            <tr>\n",
       "                        <th id=\"T_9b8b9_level0_row5\" class=\"row_heading level0 row5\" >High Yield</th>\n",
       "                        <td id=\"T_9b8b9_row5_col0\" class=\"data row5 col0\" >8.33%</td>\n",
       "                        <td id=\"T_9b8b9_row5_col1\" class=\"data row5 col1\" >-6.92%</td>\n",
       "                        <td id=\"T_9b8b9_row5_col2\" class=\"data row5 col2\" >-6.90%</td>\n",
       "                        <td id=\"T_9b8b9_row5_col3\" class=\"data row5 col3\" >4.15%</td>\n",
       "                        <td id=\"T_9b8b9_row5_col4\" class=\"data row5 col4\" >4.15%</td>\n",
       "            </tr>\n",
       "            <tr>\n",
       "                        <th id=\"T_9b8b9_level0_row6\" class=\"row_heading level0 row6\" >Commodities</th>\n",
       "                        <td id=\"T_9b8b9_row6_col0\" class=\"data row6 col0\" >8.33%</td>\n",
       "                        <td id=\"T_9b8b9_row6_col1\" class=\"data row6 col1\" >15.00%</td>\n",
       "                        <td id=\"T_9b8b9_row6_col2\" class=\"data row6 col2\" >15.00%</td>\n",
       "                        <td id=\"T_9b8b9_row6_col3\" class=\"data row6 col3\" >14.21%</td>\n",
       "                        <td id=\"T_9b8b9_row6_col4\" class=\"data row6 col4\" >14.21%</td>\n",
       "            </tr>\n",
       "            <tr>\n",
       "                        <th id=\"T_9b8b9_level0_row7\" class=\"row_heading level0 row7\" >Real Estate</th>\n",
       "                        <td id=\"T_9b8b9_row7_col0\" class=\"data row7 col0\" >8.33%</td>\n",
       "                        <td id=\"T_9b8b9_row7_col1\" class=\"data row7 col1\" >16.42%</td>\n",
       "                        <td id=\"T_9b8b9_row7_col2\" class=\"data row7 col2\" >16.40%</td>\n",
       "                        <td id=\"T_9b8b9_row7_col3\" class=\"data row7 col3\" >17.35%</td>\n",
       "                        <td id=\"T_9b8b9_row7_col4\" class=\"data row7 col4\" >17.35%</td>\n",
       "            </tr>\n",
       "            <tr>\n",
       "                        <th id=\"T_9b8b9_level0_row8\" class=\"row_heading level0 row8\" >Domestic Bonds</th>\n",
       "                        <td id=\"T_9b8b9_row8_col0\" class=\"data row8 col0\" >8.33%</td>\n",
       "                        <td id=\"T_9b8b9_row8_col1\" class=\"data row8 col1\" >1.00%</td>\n",
       "                        <td id=\"T_9b8b9_row8_col2\" class=\"data row8 col2\" >1.00%</td>\n",
       "                        <td id=\"T_9b8b9_row8_col3\" class=\"data row8 col3\" >-19.98%</td>\n",
       "                        <td id=\"T_9b8b9_row8_col4\" class=\"data row8 col4\" >-19.98%</td>\n",
       "            </tr>\n",
       "            <tr>\n",
       "                        <th id=\"T_9b8b9_level0_row9\" class=\"row_heading level0 row9\" >Foreign Bonds</th>\n",
       "                        <td id=\"T_9b8b9_row9_col0\" class=\"data row9 col0\" >8.33%</td>\n",
       "                        <td id=\"T_9b8b9_row9_col1\" class=\"data row9 col1\" >2.90%</td>\n",
       "                        <td id=\"T_9b8b9_row9_col2\" class=\"data row9 col2\" >2.90%</td>\n",
       "                        <td id=\"T_9b8b9_row9_col3\" class=\"data row9 col3\" >15.95%</td>\n",
       "                        <td id=\"T_9b8b9_row9_col4\" class=\"data row9 col4\" >15.95%</td>\n",
       "            </tr>\n",
       "            <tr>\n",
       "                        <th id=\"T_9b8b9_level0_row10\" class=\"row_heading level0 row10\" >Inflation-Indexed Bonds</th>\n",
       "                        <td id=\"T_9b8b9_row10_col0\" class=\"data row10 col0\" >8.33%</td>\n",
       "                        <td id=\"T_9b8b9_row10_col1\" class=\"data row10 col1\" >23.77%</td>\n",
       "                        <td id=\"T_9b8b9_row10_col2\" class=\"data row10 col2\" >23.80%</td>\n",
       "                        <td id=\"T_9b8b9_row10_col3\" class=\"data row10 col3\" >97.73%</td>\n",
       "                        <td id=\"T_9b8b9_row10_col4\" class=\"data row10 col4\" >97.73%</td>\n",
       "            </tr>\n",
       "            <tr>\n",
       "                        <th id=\"T_9b8b9_level0_row11\" class=\"row_heading level0 row11\" >Cash</th>\n",
       "                        <td id=\"T_9b8b9_row11_col0\" class=\"data row11 col0\" >8.33%</td>\n",
       "                        <td id=\"T_9b8b9_row11_col1\" class=\"data row11 col1\" >-15.00%</td>\n",
       "                        <td id=\"T_9b8b9_row11_col2\" class=\"data row11 col2\" >-15.00%</td>\n",
       "                        <td id=\"T_9b8b9_row11_col3\" class=\"data row11 col3\" >-76.31%</td>\n",
       "                        <td id=\"T_9b8b9_row11_col4\" class=\"data row11 col4\" >-76.31%</td>\n",
       "            </tr>\n",
       "    </tbody></table>"
      ],
      "text/plain": [
       "<pandas.io.formats.style.Styler at 0x1219f6d00>"
      ]
     },
     "metadata": {},
     "output_type": "display_data"
    }
   ],
   "source": [
    "display(wstar.style.format('{:.2%}'.format))"
   ]
  },
  {
   "cell_type": "markdown",
   "id": "d4c9cb64",
   "metadata": {},
   "source": [
    "### Using Bounds of..."
   ]
  },
  {
   "cell_type": "code",
   "execution_count": 16,
   "id": "8760e758",
   "metadata": {
    "jupyter": {
     "source_hidden": true
    }
   },
   "outputs": [
    {
     "data": {
      "text/html": [
       "<style  type=\"text/css\" >\n",
       "</style><table id=\"T_3fa50_\" ><thead>    <tr>        <th class=\"blank level0\" ></th>        <th class=\"col_heading level0 col0\" >Min</th>        <th class=\"col_heading level0 col1\" >Max</th>    </tr>    <tr>        <th class=\"index_name level0\" >Policy</th>        <th class=\"blank\" ></th>        <th class=\"blank\" ></th>    </tr></thead><tbody>\n",
       "                <tr>\n",
       "                        <th id=\"T_3fa50_level0_row0\" class=\"row_heading level0 row0\" >Domestic Equity</th>\n",
       "                        <td id=\"T_3fa50_row0_col0\" class=\"data row0 col0\" >22.00%</td>\n",
       "                        <td id=\"T_3fa50_row0_col1\" class=\"data row0 col1\" >42.00%</td>\n",
       "            </tr>\n",
       "            <tr>\n",
       "                        <th id=\"T_3fa50_level0_row1\" class=\"row_heading level0 row1\" >Foreign Equity</th>\n",
       "                        <td id=\"T_3fa50_row1_col0\" class=\"data row1 col0\" >5.00%</td>\n",
       "                        <td id=\"T_3fa50_row1_col1\" class=\"data row1 col1\" >25.00%</td>\n",
       "            </tr>\n",
       "            <tr>\n",
       "                        <th id=\"T_3fa50_level0_row2\" class=\"row_heading level0 row2\" >Emerging Markets</th>\n",
       "                        <td id=\"T_3fa50_row2_col0\" class=\"data row2 col0\" >-1.00%</td>\n",
       "                        <td id=\"T_3fa50_row2_col1\" class=\"data row2 col1\" >19.00%</td>\n",
       "            </tr>\n",
       "            <tr>\n",
       "                        <th id=\"T_3fa50_level0_row3\" class=\"row_heading level0 row3\" >Private Equity</th>\n",
       "                        <td id=\"T_3fa50_row3_col0\" class=\"data row3 col0\" >5.00%</td>\n",
       "                        <td id=\"T_3fa50_row3_col1\" class=\"data row3 col1\" >25.00%</td>\n",
       "            </tr>\n",
       "            <tr>\n",
       "                        <th id=\"T_3fa50_level0_row4\" class=\"row_heading level0 row4\" >Absolute Return</th>\n",
       "                        <td id=\"T_3fa50_row4_col0\" class=\"data row4 col0\" >-6.00%</td>\n",
       "                        <td id=\"T_3fa50_row4_col1\" class=\"data row4 col1\" >14.00%</td>\n",
       "            </tr>\n",
       "            <tr>\n",
       "                        <th id=\"T_3fa50_level0_row5\" class=\"row_heading level0 row5\" >High Yield</th>\n",
       "                        <td id=\"T_3fa50_row5_col0\" class=\"data row5 col0\" >-8.00%</td>\n",
       "                        <td id=\"T_3fa50_row5_col1\" class=\"data row5 col1\" >12.00%</td>\n",
       "            </tr>\n",
       "            <tr>\n",
       "                        <th id=\"T_3fa50_level0_row6\" class=\"row_heading level0 row6\" >Commodities</th>\n",
       "                        <td id=\"T_3fa50_row6_col0\" class=\"data row6 col0\" >-5.00%</td>\n",
       "                        <td id=\"T_3fa50_row6_col1\" class=\"data row6 col1\" >15.00%</td>\n",
       "            </tr>\n",
       "            <tr>\n",
       "                        <th id=\"T_3fa50_level0_row7\" class=\"row_heading level0 row7\" >Real Estate</th>\n",
       "                        <td id=\"T_3fa50_row7_col0\" class=\"data row7 col0\" >-3.00%</td>\n",
       "                        <td id=\"T_3fa50_row7_col1\" class=\"data row7 col1\" >17.00%</td>\n",
       "            </tr>\n",
       "            <tr>\n",
       "                        <th id=\"T_3fa50_level0_row8\" class=\"row_heading level0 row8\" >Domestic Bonds</th>\n",
       "                        <td id=\"T_3fa50_row8_col0\" class=\"data row8 col0\" >1.00%</td>\n",
       "                        <td id=\"T_3fa50_row8_col1\" class=\"data row8 col1\" >21.00%</td>\n",
       "            </tr>\n",
       "            <tr>\n",
       "                        <th id=\"T_3fa50_level0_row9\" class=\"row_heading level0 row9\" >Foreign Bonds</th>\n",
       "                        <td id=\"T_3fa50_row9_col0\" class=\"data row9 col0\" >-5.00%</td>\n",
       "                        <td id=\"T_3fa50_row9_col1\" class=\"data row9 col1\" >15.00%</td>\n",
       "            </tr>\n",
       "            <tr>\n",
       "                        <th id=\"T_3fa50_level0_row10\" class=\"row_heading level0 row10\" >Inflation-Indexed Bonds</th>\n",
       "                        <td id=\"T_3fa50_row10_col0\" class=\"data row10 col0\" >0.00%</td>\n",
       "                        <td id=\"T_3fa50_row10_col1\" class=\"data row10 col1\" >100.00%</td>\n",
       "            </tr>\n",
       "            <tr>\n",
       "                        <th id=\"T_3fa50_level0_row11\" class=\"row_heading level0 row11\" >Cash</th>\n",
       "                        <td id=\"T_3fa50_row11_col0\" class=\"data row11 col0\" >-15.00%</td>\n",
       "                        <td id=\"T_3fa50_row11_col1\" class=\"data row11 col1\" >5.00%</td>\n",
       "            </tr>\n",
       "    </tbody></table>"
      ],
      "text/plain": [
       "<pandas.io.formats.style.Styler at 0x1227fd490>"
      ]
     },
     "metadata": {},
     "output_type": "display_data"
    }
   ],
   "source": [
    "display(bounds_df.style.format('{:.2%}'.format))"
   ]
  },
  {
   "cell_type": "markdown",
   "id": "b51bc048",
   "metadata": {},
   "source": [
    "# Performance Stats"
   ]
  },
  {
   "cell_type": "code",
   "execution_count": 17,
   "id": "34225574",
   "metadata": {
    "jupyter": {
     "source_hidden": true
    }
   },
   "outputs": [
    {
     "data": {
      "text/html": [
       "<style  type=\"text/css\" >\n",
       "</style><table id=\"T_3eda6_\" ><thead>    <tr>        <th class=\"blank level0\" ></th>        <th class=\"col_heading level0 col0\" >mean</th>        <th class=\"col_heading level0 col1\" >vol</th>        <th class=\"col_heading level0 col2\" >Sharpe</th>    </tr></thead><tbody>\n",
       "                <tr>\n",
       "                        <th id=\"T_3eda6_level0_row0\" class=\"row_heading level0 row0\" >Equally-Weighted</th>\n",
       "                        <td id=\"T_3eda6_row0_col0\" class=\"data row0 col0\" >5.67%</td>\n",
       "                        <td id=\"T_3eda6_row0_col1\" class=\"data row0 col1\" >6.58%</td>\n",
       "                        <td id=\"T_3eda6_row0_col2\" class=\"data row0 col2\" >33.05%</td>\n",
       "            </tr>\n",
       "            <tr>\n",
       "                        <th id=\"T_3eda6_level0_row1\" class=\"row_heading level0 row1\" >Bounded: Numerical</th>\n",
       "                        <td id=\"T_3eda6_row1_col0\" class=\"data row1 col0\" >7.00%</td>\n",
       "                        <td id=\"T_3eda6_row1_col1\" class=\"data row1 col1\" >9.84%</td>\n",
       "                        <td id=\"T_3eda6_row1_col2\" class=\"data row1 col2\" >35.57%</td>\n",
       "            </tr>\n",
       "            <tr>\n",
       "                        <th id=\"T_3eda6_level0_row2\" class=\"row_heading level0 row2\" >Bounded: Case</th>\n",
       "                        <td id=\"T_3eda6_row2_col0\" class=\"data row2 col0\" >7.00%</td>\n",
       "                        <td id=\"T_3eda6_row2_col1\" class=\"data row2 col1\" >9.84%</td>\n",
       "                        <td id=\"T_3eda6_row2_col2\" class=\"data row2 col2\" >35.57%</td>\n",
       "            </tr>\n",
       "            <tr>\n",
       "                        <th id=\"T_3eda6_level0_row3\" class=\"row_heading level0 row3\" >MV: Numerical</th>\n",
       "                        <td id=\"T_3eda6_row3_col0\" class=\"data row3 col0\" >7.00%</td>\n",
       "                        <td id=\"T_3eda6_row3_col1\" class=\"data row3 col1\" >9.08%</td>\n",
       "                        <td id=\"T_3eda6_row3_col2\" class=\"data row3 col2\" >38.54%</td>\n",
       "            </tr>\n",
       "            <tr>\n",
       "                        <th id=\"T_3eda6_level0_row4\" class=\"row_heading level0 row4\" >MV: Analytic</th>\n",
       "                        <td id=\"T_3eda6_row4_col0\" class=\"data row4 col0\" >7.00%</td>\n",
       "                        <td id=\"T_3eda6_row4_col1\" class=\"data row4 col1\" >9.08%</td>\n",
       "                        <td id=\"T_3eda6_row4_col2\" class=\"data row4 col2\" >38.54%</td>\n",
       "            </tr>\n",
       "    </tbody></table>"
      ],
      "text/plain": [
       "<pandas.io.formats.style.Styler at 0x10244faf0>"
      ]
     },
     "metadata": {},
     "output_type": "display_data"
    }
   ],
   "source": [
    "meanP = (mean.T @ wstar)\n",
    "volP = pd.Series(np.diag(wstar.T @ cov @ wstar),index=wstar.columns).apply(np.sqrt)\n",
    "\n",
    "sharpeP = (meanP-mean.loc['Cash'])/volP\n",
    "\n",
    "performance = pd.DataFrame({'mean':meanP,'vol':volP,'Sharpe':sharpeP})\n",
    "display(performance.style.format('{:.2%}'.format))"
   ]
  },
  {
   "cell_type": "markdown",
   "id": "3c33d08c",
   "metadata": {},
   "source": [
    "### In the case of Assumed Statistics (Exhibit 4)...\n",
    "\n",
    "The Bounded and Classic MV answers have similar Sharpe ratios.\n",
    "- Bounded optimization does a good job?\n",
    "- For these targeted mean returns, yes.\n",
    "- But for large target mean, classic MV can get there with huge long-short positions, and the bounded solution will fail or will do so with bigger penalty.\n",
    "\n",
    "Try `TARGET_MEAN` of 10%, 15%, 20% to get an idea of this.\n",
    "\n",
    "Additionally, this analysis is impacted by the strange assumed mean return. Domestic equities are assumed to only have a 3% premium over cash!"
   ]
  },
  {
   "cell_type": "markdown",
   "id": "e872578b",
   "metadata": {},
   "source": [
    "# Which Constraints are most costly?\n",
    "\n",
    "The Lagrange Multipliers give us a clue.\n",
    "- Each is the derivative of the objective function with respect to the constraint boundary.\n",
    "- Magnitude shows impact.\n",
    "- Sign is an indication of whether constraint is upper or lower bound.\n",
    "- Showing impact on objective (variance) so numbers are small.\n",
    "\n",
    "Focus on their relative magnitudes.\n",
    "\n",
    "### The importance of the constraints changes a lot\n",
    "- between using the Long-Only or Policy Constraints\n",
    "- between using the Historic and Assumed Stats"
   ]
  },
  {
   "cell_type": "code",
   "execution_count": 18,
   "id": "08405dbf",
   "metadata": {
    "jupyter": {
     "source_hidden": true
    }
   },
   "outputs": [
    {
     "data": {
      "text/html": [
       "<style  type=\"text/css\" >\n",
       "</style><table id=\"T_1dbec_\" ><thead>    <tr>        <th class=\"blank level0\" ></th>        <th class=\"col_heading level0 col0\" >Lagrange Multipliers</th>    </tr>    <tr>        <th class=\"index_name level0\" >Assumed Stats</th>        <th class=\"blank\" ></th>    </tr></thead><tbody>\n",
       "                <tr>\n",
       "                        <th id=\"T_1dbec_level0_row0\" class=\"row_heading level0 row0\" >Commodities</th>\n",
       "                        <td id=\"T_1dbec_row0_col0\" class=\"data row0 col0\" >0.14%</td>\n",
       "            </tr>\n",
       "            <tr>\n",
       "                        <th id=\"T_1dbec_level0_row1\" class=\"row_heading level0 row1\" >Emerging Markets</th>\n",
       "                        <td id=\"T_1dbec_row1_col0\" class=\"data row1 col0\" >0.08%</td>\n",
       "            </tr>\n",
       "            <tr>\n",
       "                        <th id=\"T_1dbec_level0_row2\" class=\"row_heading level0 row2\" >Real Estate</th>\n",
       "                        <td id=\"T_1dbec_row2_col0\" class=\"data row2 col0\" >0.00%</td>\n",
       "            </tr>\n",
       "            <tr>\n",
       "                        <th id=\"T_1dbec_level0_row3\" class=\"row_heading level0 row3\" >Private Equity</th>\n",
       "                        <td id=\"T_1dbec_row3_col0\" class=\"data row3 col0\" >0.00%</td>\n",
       "            </tr>\n",
       "            <tr>\n",
       "                        <th id=\"T_1dbec_level0_row4\" class=\"row_heading level0 row4\" >Inflation-Indexed Bonds</th>\n",
       "                        <td id=\"T_1dbec_row4_col0\" class=\"data row4 col0\" >-0.00%</td>\n",
       "            </tr>\n",
       "            <tr>\n",
       "                        <th id=\"T_1dbec_level0_row5\" class=\"row_heading level0 row5\" >Foreign Bonds</th>\n",
       "                        <td id=\"T_1dbec_row5_col0\" class=\"data row5 col0\" >-0.00%</td>\n",
       "            </tr>\n",
       "            <tr>\n",
       "                        <th id=\"T_1dbec_level0_row6\" class=\"row_heading level0 row6\" >High Yield</th>\n",
       "                        <td id=\"T_1dbec_row6_col0\" class=\"data row6 col0\" >-0.00%</td>\n",
       "            </tr>\n",
       "            <tr>\n",
       "                        <th id=\"T_1dbec_level0_row7\" class=\"row_heading level0 row7\" >Absolute Return</th>\n",
       "                        <td id=\"T_1dbec_row7_col0\" class=\"data row7 col0\" >-0.13%</td>\n",
       "            </tr>\n",
       "            <tr>\n",
       "                        <th id=\"T_1dbec_level0_row8\" class=\"row_heading level0 row8\" >Domestic Bonds</th>\n",
       "                        <td id=\"T_1dbec_row8_col0\" class=\"data row8 col0\" >-0.16%</td>\n",
       "            </tr>\n",
       "            <tr>\n",
       "                        <th id=\"T_1dbec_level0_row9\" class=\"row_heading level0 row9\" >Foreign Equity</th>\n",
       "                        <td id=\"T_1dbec_row9_col0\" class=\"data row9 col0\" >-0.17%</td>\n",
       "            </tr>\n",
       "            <tr>\n",
       "                        <th id=\"T_1dbec_level0_row10\" class=\"row_heading level0 row10\" >Cash</th>\n",
       "                        <td id=\"T_1dbec_row10_col0\" class=\"data row10 col0\" >-0.18%</td>\n",
       "            </tr>\n",
       "            <tr>\n",
       "                        <th id=\"T_1dbec_level0_row11\" class=\"row_heading level0 row11\" >Domestic Equity</th>\n",
       "                        <td id=\"T_1dbec_row11_col0\" class=\"data row11 col0\" >-0.68%</td>\n",
       "            </tr>\n",
       "    </tbody></table>"
      ],
      "text/plain": [
       "<pandas.io.formats.style.Styler at 0x121a2e6d0>"
      ]
     },
     "execution_count": 18,
     "metadata": {},
     "output_type": "execute_result"
    }
   ],
   "source": [
    "warnings.filterwarnings(\"ignore\", message=\"delta_grad == 0.0. Check if the approximated function is linear.\")\n",
    "\n",
    "TOL = 1e-12\n",
    "METHOD = 'trust-constr'\n",
    "\n",
    "w0 = wstar['Bounded: Numerical']\n",
    "solutionALT = minimize(objective, w0, method=METHOD, bounds=bounds,constraints=cons, tol=TOL)\n",
    "\n",
    "pd.DataFrame(solutionALT.v[-1], index=mean.index, columns=['Lagrange Multipliers']).sort_values('Lagrange Multipliers',ascending=False).style.format('{:.2%}'.format)"
   ]
  },
  {
   "cell_type": "markdown",
   "id": "8926dd38",
   "metadata": {},
   "source": [
    "# Figures"
   ]
  },
  {
   "cell_type": "code",
   "execution_count": 19,
   "id": "5fe1bc05",
   "metadata": {
    "jupyter": {
     "source_hidden": true
    }
   },
   "outputs": [
    {
     "data": {
      "image/png": "[encoded data removed]",
      "text/plain": [
       "<Figure size 720x720 with 1 Axes>"
      ]
     },
     "metadata": {
      "needs_background": "light"
     },
     "output_type": "display_data"
    }
   ],
   "source": [
    "warnings.filterwarnings(\"ignore\", message=\"Values in x were outside bounds during a \")\n",
    "\n",
    "import matplotlib.pyplot as plt\n",
    "import seaborn as sns\n",
    "\n",
    "omega = pd.DataFrame(MVweights(mean=mean,cov=cov,isexcess=False,target='TAN'), index=mean.index).rename({0:'Tangency'},axis=1)\n",
    "\n",
    "mean_ex = mean-mean['Cash']\n",
    "cov_ex = cov.drop(columns=['Cash'],index=['Cash'])\n",
    "omega['GMV'] = MVweights(mean=mean,cov=cov,isexcess=False,target='GMV')\n",
    "\n",
    "omega_tan = omega['Tangency']\n",
    "omega_gmv = omega['GMV']\n",
    "\n",
    "vols = pd.Series(np.sqrt(np.diag(cov)), index=cov.index)\n",
    "special_vols = pd.Series(np.sqrt(np.diag(omega.T @ cov @ omega)), index=omega.columns)\n",
    "special_means = mean.T @ omega\n",
    "\n",
    "if USE_LONGONLY_CONSTRAINT:\n",
    "    MVgridmax = 350\n",
    "else:\n",
    "    MVgridmax = 200\n",
    "    \n",
    "delta_grid = np.linspace(-25,MVgridmax,100)\n",
    "mv_frame = pd.DataFrame(columns=['mean','vol'],index=delta_grid)\n",
    "for i, delta in enumerate(delta_grid):\n",
    "    omega_mv = delta * omega_tan + (1-delta) * omega_gmv\n",
    "    mv_frame['mean'].iloc[i] = omega_mv.T @ mean.T\n",
    "    mv_frame['vol'].iloc[i] = np.sqrt(omega_mv.T @ cov @ omega_mv)\n",
    "    \n",
    "mv_assets = pd.concat([mean, vols],axis=1)\n",
    "mv_special = pd.concat([special_means, special_vols],axis=1)\n",
    "mv_assets.columns = ['mean','vol']\n",
    "mv_special.columns = ['mean','vol']\n",
    "\n",
    "ax = mv_frame.plot.scatter(x='vol',y='mean', c='k', figsize=(10,10), title='MV Frontier')\n",
    "mv_assets.plot.scatter(x='vol',y='mean',ax=ax, c='b', marker='^', linewidth=4)\n",
    "mv_special.plot.scatter(x='vol',y='mean',ax=ax, c='g', marker='o', linewidth=4)\n",
    "\n",
    "for i in range(mv_assets.shape[0]):\n",
    "    plt.text(x=mv_assets['vol'][i]+.0005, y=mv_assets['mean'][i]+.001, s=mv_assets.index[i])\n",
    "\n",
    "TOL = 1e-12\n",
    "METHOD = 'SLSQP'\n",
    "w0 = np.ones(nAssets) / nAssets\n",
    "\n",
    "\n",
    "if USE_LONGONLY_CONSTRAINT:\n",
    "    maxmu = .12\n",
    "    minmu = 0\n",
    "else:\n",
    "    maxmu = .08\n",
    "    minmu = .05\n",
    "    \n",
    "mu_grid = np.linspace(minmu,maxmu,20)\n",
    "mvcon_frame = pd.DataFrame(columns=['mean','vol'],index=mu_grid)\n",
    "for i, mu in enumerate(mu_grid):\n",
    "    TARGET_MEAN = mu\n",
    "    omega_con = minimize(objective, w0, method=METHOD, bounds=bounds,constraints=cons, tol=TOL).x\n",
    "    mvcon_frame['mean'].iloc[i] = omega_con.T @ mean.T\n",
    "    mvcon_frame['vol'].iloc[i] = np.sqrt(omega_con.T @ cov @ omega_con)\n",
    "    \n",
    "mvcon_frame.plot.scatter(x='vol',y='mean', c='r', marker = 's', ax=ax, linewidth=5)\n",
    "\n",
    "plt.legend(['Classic MV', 'Assets', 'TAN & GMV', 'Bounded MV'])\n",
    "full_fig = plt.gcf()"
   ]
  },
  {
   "cell_type": "code",
   "execution_count": null,
   "id": "265cc340",
   "metadata": {
    "jupyter": {
     "source_hidden": true
    }
   },
   "outputs": [],
   "source": []
  }
 ],
 "metadata": {
  "hide_input": false,
  "kernelspec": {
   "display_name": "Python 3 (ipykernel)",
   "language": "python",
   "name": "python3"
  },
  "language_info": {
   "codemirror_mode": {
    "name": "ipython",
    "version": 3
   },
   "file_extension": ".py",
   "mimetype": "text/x-python",
   "name": "python",
   "nbconvert_exporter": "python",
   "pygments_lexer": "ipython3",
   "version": "3.9.6"
  }
 },
 "nbformat": 4,
 "nbformat_minor": 5
}
