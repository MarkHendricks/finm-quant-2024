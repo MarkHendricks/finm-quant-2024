{
 "cells": [
  {
   "cell_type": "markdown",
   "id": "b2f3a468-34ef-4194-af53-985483cf7dce",
   "metadata": {},
   "source": [
    "# E.3. Factor Models and the Tangency\n",
    "\n",
    "## Extra - Not tested"
   ]
  },
  {
   "cell_type": "markdown",
   "id": "7bfdcc83-0497-478c-904e-d983c4a8edab",
   "metadata": {},
   "source": [
    "## Weight on the Tangency portfolio\n",
    "\n",
    "Above we looked at the tangency portfolio weights of the securities and factors.\n",
    "\n",
    "Are these weights \"significant\"? That is, are we sure that these weights are not just the 4 factors plus random noise?\n",
    "\n",
    "It turns out that running OLS of y=1 on X = returns gives us the tangency weights. (They are a scaled version, but that doesn't matter.) \n",
    "\n",
    "Since this comes from regression betas, we also automatically get the t-stats and p-values. If the p-values are less than .05, then we say the regressor is statistically significant at the 5th percentile.\n",
    "\n",
    "Let's see whether the factors are the only significant weights when included with the equities."
   ]
  },
  {
   "cell_type": "code",
   "execution_count": 1,
   "id": "220eec06",
   "metadata": {
    "jupyter": {
     "source_hidden": true
    }
   },
   "outputs": [],
   "source": [
    "import pandas as pd\n",
    "import numpy as np\n",
    "import statsmodels.api as sm\n",
    "from sklearn.linear_model import LinearRegression\n",
    "import seaborn as sns\n",
    "import matplotlib.pyplot as plt\n",
    "\n",
    "import sys\n",
    "sys.path.insert(0, '../cmds')\n",
    "from portfolio import *"
   ]
  },
  {
   "cell_type": "code",
   "execution_count": 2,
   "id": "23dbcfd0",
   "metadata": {
    "jupyter": {
     "source_hidden": true
    }
   },
   "outputs": [],
   "source": [
    "facs = pd.read_excel('../data/factor_pricing_data.xlsx',sheet_name='factors (excess returns)').set_index('Date')\n",
    "assets = pd.read_excel('../data/factor_pricing_data.xlsx',sheet_name='portfolios (excess returns)').set_index('Date')\n",
    "\n",
    "FREQ = 12"
   ]
  },
  {
   "cell_type": "code",
   "execution_count": 12,
   "id": "f2fda157",
   "metadata": {
    "jupyter": {
     "source_hidden": true
    }
   },
   "outputs": [
    {
     "data": {
      "text/html": [
       "<style type=\"text/css\">\n",
       "</style>\n",
       "<table id=\"T_467ab\">\n",
       "  <thead>\n",
       "    <tr>\n",
       "      <th class=\"blank level0\" >&nbsp;</th>\n",
       "      <th id=\"T_467ab_level0_col0\" class=\"col_heading level0 col0\" >p-values</th>\n",
       "    </tr>\n",
       "  </thead>\n",
       "  <tbody>\n",
       "    <tr>\n",
       "      <th id=\"T_467ab_level0_row0\" class=\"row_heading level0 row0\" >Softw</th>\n",
       "      <td id=\"T_467ab_row0_col0\" class=\"data row0 col0\" >0.05%</td>\n",
       "    </tr>\n",
       "    <tr>\n",
       "      <th id=\"T_467ab_level0_row1\" class=\"row_heading level0 row1\" >HML</th>\n",
       "      <td id=\"T_467ab_row1_col0\" class=\"data row1 col0\" >0.06%</td>\n",
       "    </tr>\n",
       "    <tr>\n",
       "      <th id=\"T_467ab_level0_row2\" class=\"row_heading level0 row2\" >UMD</th>\n",
       "      <td id=\"T_467ab_row2_col0\" class=\"data row2 col0\" >0.06%</td>\n",
       "    </tr>\n",
       "    <tr>\n",
       "      <th id=\"T_467ab_level0_row3\" class=\"row_heading level0 row3\" >PerSv</th>\n",
       "      <td id=\"T_467ab_row3_col0\" class=\"data row3 col0\" >1.86%</td>\n",
       "    </tr>\n",
       "    <tr>\n",
       "      <th id=\"T_467ab_level0_row4\" class=\"row_heading level0 row4\" >Drugs</th>\n",
       "      <td id=\"T_467ab_row4_col0\" class=\"data row4 col0\" >1.98%</td>\n",
       "    </tr>\n",
       "  </tbody>\n",
       "</table>\n"
      ],
      "text/plain": [
       "<pandas.io.formats.style.Styler at 0x33cedbf40>"
      ]
     },
     "metadata": {},
     "output_type": "display_data"
    },
    {
     "data": {
      "text/html": [
       "<style type=\"text/css\">\n",
       "</style>\n",
       "<table id=\"T_aa1ee\">\n",
       "  <thead>\n",
       "    <tr>\n",
       "      <th class=\"blank level0\" >&nbsp;</th>\n",
       "      <th id=\"T_aa1ee_level0_col0\" class=\"col_heading level0 col0\" >p-values</th>\n",
       "    </tr>\n",
       "  </thead>\n",
       "  <tbody>\n",
       "    <tr>\n",
       "      <th id=\"T_aa1ee_level0_row0\" class=\"row_heading level0 row0\" >FabPr</th>\n",
       "      <td id=\"T_aa1ee_row0_col0\" class=\"data row0 col0\" >88.93%</td>\n",
       "    </tr>\n",
       "    <tr>\n",
       "      <th id=\"T_aa1ee_level0_row1\" class=\"row_heading level0 row1\" >LabEq</th>\n",
       "      <td id=\"T_aa1ee_row1_col0\" class=\"data row1 col0\" >91.44%</td>\n",
       "    </tr>\n",
       "    <tr>\n",
       "      <th id=\"T_aa1ee_level0_row2\" class=\"row_heading level0 row2\" >Gold </th>\n",
       "      <td id=\"T_aa1ee_row2_col0\" class=\"data row2 col0\" >91.57%</td>\n",
       "    </tr>\n",
       "    <tr>\n",
       "      <th id=\"T_aa1ee_level0_row3\" class=\"row_heading level0 row3\" >Books</th>\n",
       "      <td id=\"T_aa1ee_row3_col0\" class=\"data row3 col0\" >93.28%</td>\n",
       "    </tr>\n",
       "    <tr>\n",
       "      <th id=\"T_aa1ee_level0_row4\" class=\"row_heading level0 row4\" >Hshld</th>\n",
       "      <td id=\"T_aa1ee_row4_col0\" class=\"data row4 col0\" >93.45%</td>\n",
       "    </tr>\n",
       "  </tbody>\n",
       "</table>\n"
      ],
      "text/plain": [
       "<pandas.io.formats.style.Styler at 0x33cedde80>"
      ]
     },
     "metadata": {},
     "output_type": "display_data"
    }
   ],
   "source": [
    "temp = sm.add_constant(assets.join(facs))\n",
    "X = temp.drop(columns=['const','RMW','CMA'])\n",
    "y = temp[['const']]\n",
    "mod = sm.OLS(y,X).fit()\n",
    "pvals = mod.pvalues.to_frame()\n",
    "pvals.columns = ['p-values']\n",
    "display(pvals.sort_values('p-values').head(5).style.format('{:.2%}'))\n",
    "display(pvals.sort_values('p-values').tail(5).style.format('{:.2%}'))"
   ]
  },
  {
   "cell_type": "markdown",
   "id": "ebaa44b5",
   "metadata": {},
   "source": [
    "The p-values for MKT, HML, and UMD are less than .05, saying they're significant in testing. \n",
    "\n",
    "However, we also see significance (p-value less than .05) in many of the test assets."
   ]
  },
  {
   "cell_type": "markdown",
   "id": "9249155d",
   "metadata": {},
   "source": [
    "### Do the extra 3 factors beyond the CAPM help much?\n",
    "\n",
    "We could see whether the tangency portfolio is improved much by using the four factors (versus just using MKT.)"
   ]
  },
  {
   "cell_type": "code",
   "execution_count": 4,
   "id": "d2a4c5f2",
   "metadata": {
    "jupyter": {
     "source_hidden": true
    }
   },
   "outputs": [
    {
     "data": {
      "text/html": [
       "<style type=\"text/css\">\n",
       "</style>\n",
       "<table id=\"T_70e04\">\n",
       "  <thead>\n",
       "    <tr>\n",
       "      <th class=\"blank level0\" >&nbsp;</th>\n",
       "      <th id=\"T_70e04_level0_col0\" class=\"col_heading level0 col0\" >MKT</th>\n",
       "      <th id=\"T_70e04_level0_col1\" class=\"col_heading level0 col1\" >SMB</th>\n",
       "      <th id=\"T_70e04_level0_col2\" class=\"col_heading level0 col2\" >HML</th>\n",
       "      <th id=\"T_70e04_level0_col3\" class=\"col_heading level0 col3\" >UMD</th>\n",
       "    </tr>\n",
       "  </thead>\n",
       "  <tbody>\n",
       "    <tr>\n",
       "      <th id=\"T_70e04_level0_row0\" class=\"row_heading level0 row0\" >p-values</th>\n",
       "      <td id=\"T_70e04_row0_col0\" class=\"data row0 col0\" >0.00%</td>\n",
       "      <td id=\"T_70e04_row0_col1\" class=\"data row0 col1\" >79.12%</td>\n",
       "      <td id=\"T_70e04_row0_col2\" class=\"data row0 col2\" >0.11%</td>\n",
       "      <td id=\"T_70e04_row0_col3\" class=\"data row0 col3\" >0.01%</td>\n",
       "    </tr>\n",
       "  </tbody>\n",
       "</table>\n"
      ],
      "text/plain": [
       "<pandas.io.formats.style.Styler at 0x31cc049a0>"
      ]
     },
     "execution_count": 4,
     "metadata": {},
     "output_type": "execute_result"
    }
   ],
   "source": [
    "temp = sm.add_constant(facs)\n",
    "X = temp[['MKT','SMB','HML','UMD']]\n",
    "y = temp[['const']]\n",
    "\n",
    "mod = sm.OLS(y,X).fit()\n",
    "pvals = mod.pvalues.to_frame()\n",
    "pvals.columns = ['p-values']\n",
    "pvals.T.style.format('{:.2%}')"
   ]
  },
  {
   "cell_type": "markdown",
   "id": "74d6a020",
   "metadata": {},
   "source": [
    "It appears that the size factor, SMB, is not significant at any interesting level.\n",
    "\n",
    "So why is the size factors used in pricing? It seems to help when we test large \n",
    "\n",
    "But hopefully this also helps illustrate why CAPM is still the baseline for many applications."
   ]
  }
 ],
 "metadata": {
  "hide_input": false,
  "kernelspec": {
   "display_name": "Python 3 (ipykernel)",
   "language": "python",
   "name": "python3"
  },
  "language_info": {
   "codemirror_mode": {
    "name": "ipython",
    "version": 3
   },
   "file_extension": ".py",
   "mimetype": "text/x-python",
   "name": "python",
   "nbconvert_exporter": "python",
   "pygments_lexer": "ipython3",
   "version": "3.9.6"
  }
 },
 "nbformat": 4,
 "nbformat_minor": 5
}
