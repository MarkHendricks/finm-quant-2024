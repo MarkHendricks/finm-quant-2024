{
 "cells": [
  {
   "cell_type": "markdown",
   "id": "29b2f936",
   "metadata": {},
   "source": [
    "# Midterm\n",
    "\n",
    "## FINM 25000 - 2024\n",
    "\n",
    "### UChicago Financial Mathematics\n",
    "\n",
    "* Mark Hendricks\n",
    "* hendricks@uchicago.edu"
   ]
  },
  {
   "cell_type": "markdown",
   "id": "af28e7fd",
   "metadata": {},
   "source": [
    "# Instructions"
   ]
  },
  {
   "cell_type": "markdown",
   "id": "a4dd63ff",
   "metadata": {},
   "source": [
    "## Please note the following:\n",
    "\n",
    "Points\n",
    "* The exam is `115` points.\n",
    "* You have `180` minutes to complete the exam.\n",
    "* For every minute late you submit the exam, you will lose one point.\n",
    "\n",
    "Submission\n",
    "* You will upload your solution to the `Midterm` assignment on Canvas. (Be sure to **submit** on Canvas, not just **save** on Canvas.\n",
    "* Your submission should be readable, (the graders can understand your answers,) and it should **include all code used in your analysis in a file format that the code can be executed.** \n",
    "\n",
    "Rules\n",
    "* The exam is open-material, closed-communication.\n",
    "* You do not need to cite material from the course github repo--you are welcome to use the code posted there without citation.\n",
    "\n",
    "Advice\n",
    "* If you find any question to be unclear, state your interpretation and proceed. We will only answer questions of interpretation if there is a typo, error, etc.\n",
    "* The exam will be graded for partial credit."
   ]
  },
  {
   "cell_type": "markdown",
   "id": "1960a3c5",
   "metadata": {},
   "source": [
    "## Data\n",
    "\n",
    "**All data files are found in the class github repo, in the `data` folder.**\n",
    "\n",
    "This exam makes use of the following data files:\n",
    "* `midterm_data.xlsx`\n",
    "\n",
    "This file has sheets for...\n",
    "* `info` - names of each stock ticker\n",
    "* `excess returns` - weekly excess returns on several stocks\n",
    "* `SPY` - weekly excess returns on SPY\n",
    "* `forecasting` - monthly data on `USO` asset returns and two forecasting signals.\n",
    "\n",
    "Note \n",
    "* the data for `excess returns` and `SPY` is **weekly** so any annualizations should use `52` weeks in a year.\n",
    "* the data for `forecasting` is monthly, so any annualization should use `12` months in a year."
   ]
  },
  {
   "cell_type": "markdown",
   "id": "336f6568",
   "metadata": {},
   "source": [
    "#### If useful\n",
    "here is code to load in the data."
   ]
  },
  {
   "cell_type": "code",
   "execution_count": null,
   "id": "0015b7a4",
   "metadata": {},
   "outputs": [],
   "source": [
    "import pandas as pd\n",
    "import numpy as np"
   ]
  },
  {
   "cell_type": "code",
   "execution_count": null,
   "id": "344abdac",
   "metadata": {},
   "outputs": [],
   "source": [
    "FILEIN = '../data/midterm_data.xlsx'\n",
    "sheet_exrets = 'excess returns'\n",
    "sheet_spy = 'spy'\n",
    "\n",
    "retsx = pd.read_excel(FILEIN, sheet_name=sheet_exrets).set_index('date')\n",
    "spy = pd.read_excel(FILEIN, sheet_name=sheet_spy).set_index('date')"
   ]
  },
  {
   "cell_type": "markdown",
   "id": "d0af33e1",
   "metadata": {},
   "source": [
    "## Scoring\n",
    "\n",
    "| Problem | Points |\n",
    "|---------|--------|\n",
    "| 1       | 50     |\n",
    "| 2       | 25     |\n",
    "| 3       | 20     |\n",
    "| 4       | 20     |"
   ]
  },
  {
   "cell_type": "markdown",
   "id": "c158c236",
   "metadata": {},
   "source": [
    "### Each numbered question is worth 5 points."
   ]
  },
  {
   "cell_type": "markdown",
   "id": "362090a7",
   "metadata": {},
   "source": [
    "### Notation\n",
    "(Hidden LaTeX commands)\n",
    "\n",
    "$$\\newcommand{\\mux}{\\tilde{\\boldsymbol{\\mu}}}$$\n",
    "$$\\newcommand{\\wtan}{\\boldsymbol{\\text{w}}^{\\text{tan}}}$$\n",
    "$$\\newcommand{\\wtarg}{\\boldsymbol{\\text{w}}^{\\text{port}}}$$\n",
    "$$\\newcommand{\\mutarg}{\\tilde{\\boldsymbol{\\mu}}^{\\text{port}}}$$\n",
    "$$\\newcommand{\\wEW}{\\boldsymbol{\\text{w}}^{\\text{EW}}}$$\n",
    "$$\\newcommand{\\wRP}{\\boldsymbol{\\text{w}}^{\\text{RP}}}$$\n",
    "$$\\newcommand{\\wREG}{\\boldsymbol{\\text{w}}^{\\text{REG}}}$$\n",
    "$$\\newcommand{\\targ}{\\text{USO}}$$"
   ]
  },
  {
   "cell_type": "markdown",
   "id": "40926a81",
   "metadata": {},
   "source": [
    "# 1. Short Answer"
   ]
  },
  {
   "cell_type": "markdown",
   "id": "d29c0d60",
   "metadata": {},
   "source": [
    "### No Data Needed\n",
    "\n",
    "These problem does not require any data file. Rather, analyze the situation conceptually, based on the information below. "
   ]
  },
  {
   "cell_type": "markdown",
   "id": "d086f971",
   "metadata": {},
   "source": [
    "### 1\n",
    "\n",
    "In what sense was ProShares `HDG` successful in hedging the `HFRI`, and in what sense was it unsuccessful in tracking the `HFRI`?"
   ]
  },
  {
   "cell_type": "markdown",
   "id": "ea8b7e68",
   "metadata": {},
   "source": [
    "### 2\n",
    "\n",
    "Did we find that **TIPS** have been useful in expanding the mean-variance frontier in the past? Did we conclude they might be useful in the future? Explain."
   ]
  },
  {
   "cell_type": "markdown",
   "id": "8b88f0d5-333a-4c33-af1a-48c97c5a1880",
   "metadata": {},
   "source": [
    "### 3.\n",
    "\n",
    "Consider a Linear Factor Pricing Model (LFPM).\n",
    "\n",
    "Which metric do we examine to understand its fit, (or errors)?"
   ]
  },
  {
   "cell_type": "markdown",
   "id": "ea97348b",
   "metadata": {},
   "source": [
    "### 4.\n",
    "\n",
    "What aspect of the classic mean-variance optimization approach leads to extreme answers? How did regularization help with this issue?"
   ]
  },
  {
   "cell_type": "markdown",
   "id": "3d1b97d0-6219-4980-af49-da979de90d33",
   "metadata": {},
   "source": [
    "### 5.\n",
    "\n",
    "Suppose investors are **not** mean-variance investors. If we find an investment with a Sharpe ratio higher than the \"market\", would this would be inconsistent with the CAPM?"
   ]
  },
  {
   "cell_type": "markdown",
   "id": "c82adefc-a007-4f3e-a8d7-d46d9843303f",
   "metadata": {},
   "source": [
    "### 6.\n",
    "\n",
    "Which is more useful in assessing the model’s fit for pricing: the r-squared of the time-series regressions, the r-squared of the cross-sectional regression, or neither?"
   ]
  },
  {
   "cell_type": "markdown",
   "id": "7f86b988-7f73-4abd-bf5b-503c65afa840",
   "metadata": {},
   "source": [
    "### 7.\n",
    "\n",
    "GMO stated that they had a “contrarian” investment style. What did they mean by this? Was this seen in our investigation of the fund, GMWAX?"
   ]
  },
  {
   "cell_type": "markdown",
   "id": "cf2f17f1-b26e-4cd6-8fc8-88b7f270c92b",
   "metadata": {},
   "source": [
    "### 8.\n",
    "\n",
    "How does Harvard make their portfolio allocation more realistic than a basic mean- variance optimization would imply? Is their approach easily implemented and computed from a numerical standpoint?"
   ]
  },
  {
   "cell_type": "markdown",
   "id": "3a001e9c-5f43-4de3-bacd-15827b4f0edd",
   "metadata": {},
   "source": [
    "### 9.\n",
    "\n",
    "If we want to hedge a portfolio's returns with respect to SPY, how could we calculate the optimal ratio? How would this ratio then be used to build the hedged position?"
   ]
  },
  {
   "cell_type": "markdown",
   "id": "c40c1ff5-a5df-447e-881e-ddd3823187d7",
   "metadata": {},
   "source": [
    "### 10.\n",
    "\n",
    "Name one way in which Fama and French construct the factors that helps reduce cross- factor correlation."
   ]
  },
  {
   "cell_type": "markdown",
   "id": "55e42346",
   "metadata": {},
   "source": [
    "***"
   ]
  },
  {
   "cell_type": "markdown",
   "id": "2d66389e",
   "metadata": {},
   "source": [
    "# 2. Allocation\n"
   ]
  },
  {
   "cell_type": "markdown",
   "id": "68b67603",
   "metadata": {},
   "source": [
    "Consider a mean-variance optimization of **excess** returns provided in `midterm_data.xlsx.`"
   ]
  },
  {
   "cell_type": "markdown",
   "id": "ebe496df",
   "metadata": {},
   "source": [
    "### 1. \n",
    "\n",
    "Report the following **annualized** statistics:\n",
    "* mean\n",
    "* volatility\n",
    "* Sharpe ratio"
   ]
  },
  {
   "cell_type": "markdown",
   "id": "0bbedca6-c330-413e-a39d-8f90ab671df2",
   "metadata": {},
   "source": [
    "### 2.\n",
    "\n",
    "Report the weights of the tangency portfolio."
   ]
  },
  {
   "cell_type": "markdown",
   "id": "c2cbc4af-b1f8-4955-bc99-66b04f1ed658",
   "metadata": {},
   "source": [
    "### 3.\n",
    "Report the Sharpe ratio achieved by the tangency portfolio over this sample. Annualize it (accounting for weekly data.)"
   ]
  },
  {
   "cell_type": "markdown",
   "id": "eb1bab65",
   "metadata": {},
   "source": [
    "### 4.\n",
    "\n",
    "* What weight is given to the asset with the lowest Sharpe ratio?\n",
    "* What Sharpe ratio does the lowest (most negative) weight asset have?\n",
    "\n",
    "Explain why the weights are not most extreme for the assets with the largest/smallest Share Ratios."
   ]
  },
  {
   "cell_type": "markdown",
   "id": "f39c17ae-0af8-4a89-a27a-a199c0ce2c77",
   "metadata": {},
   "source": [
    "### 5.\n",
    "\n",
    "To target a mean return of `0.001` weekly, would you be invested in the risk-free rate or borrowing from the risk-free rate?"
   ]
  },
  {
   "cell_type": "markdown",
   "id": "30cdbfa9",
   "metadata": {},
   "source": [
    "***"
   ]
  },
  {
   "cell_type": "markdown",
   "id": "a34d9fbd",
   "metadata": {},
   "source": [
    "# 3. Performance"
   ]
  },
  {
   "cell_type": "markdown",
   "id": "426af123",
   "metadata": {},
   "source": [
    "### 1. \n",
    "\n",
    "Report the following performance metrics of excess returns for Tesla (`TSLA`).\n",
    "* skewness\n",
    "* kurtosis\n",
    "\n",
    "You are not annualizing any of these stats.\n",
    "\n",
    "What do these metrics indicate about the nature of the returns?"
   ]
  },
  {
   "cell_type": "markdown",
   "id": "877253fc",
   "metadata": {},
   "source": [
    "### 2. \n",
    "\n",
    "Report the maximum drawdown for `TSLA` over the sample.\n",
    "* Ignore that your data is in excess returns rather than total returns.\n",
    "* Simply proceed with the excess return data for this calculation."
   ]
  },
  {
   "cell_type": "markdown",
   "id": "20d77a74",
   "metadata": {},
   "source": [
    "### 3.\n",
    "\n",
    "For `TSLA`, calculate the following metrics, relative to `SPY`:\n",
    "* market beta\n",
    "* alpha\n",
    "* information ratio\n",
    "\n",
    "Annualize alpha and information ratio.\n",
    "\n",
    "*Recall that this is weekly data, with 52 weeks per year.*"
   ]
  },
  {
   "cell_type": "markdown",
   "id": "695093a0-4a01-4d80-be8c-b5380ca50ea3",
   "metadata": {},
   "source": [
    "### 4.\n",
    "\n",
    "Comment on what you conclude about `TSLA` based on the statistics calculated in the previous question."
   ]
  },
  {
   "cell_type": "markdown",
   "id": "efee2bb2",
   "metadata": {},
   "source": [
    "***"
   ]
  },
  {
   "cell_type": "markdown",
   "id": "f3820d1b",
   "metadata": {},
   "source": [
    "# 4. Hedging"
   ]
  },
  {
   "cell_type": "markdown",
   "id": "b559f9a9",
   "metadata": {},
   "source": [
    "### 1. \n",
    "\n",
    "Consider the following scenario: you are holding a \\$100 million long position in `NVDA`. You wish to hedge the position using some combination of \n",
    "* `AAPL`\n",
    "* `AMZN`\n",
    "* `GOOGL`\n",
    "* `MSFT`\n",
    "\n",
    "Report the positions you would hold of those 4 securities for an optimal hedge.\n",
    "\n",
    "Note:\n",
    "* In the regression estimation, include an intercept.\n",
    "* Use the full-sample regression. No need to worry about in-sample versus out-of-sample."
   ]
  },
  {
   "cell_type": "markdown",
   "id": "6127f366",
   "metadata": {},
   "source": [
    "### 2.\n",
    "\n",
    "How well does the hedge do? Cite a regression statistic to support your answer.\n",
    "\n",
    "Also estimate the volatility of the basis, (epsilon.)"
   ]
  },
  {
   "cell_type": "markdown",
   "id": "9a75877f-470f-41e2-8467-6e7362e3f34e",
   "metadata": {},
   "source": [
    "***"
   ]
  },
  {
   "cell_type": "markdown",
   "id": "9bfde231-ece9-4d63-bf5c-f3d8154269bb",
   "metadata": {},
   "source": [
    "# 5. Forecasting"
   ]
  },
  {
   "cell_type": "markdown",
   "id": "d7910055-2d9f-4898-b56c-71236182f98d",
   "metadata": {},
   "source": [
    "Forecast (total) returns on oil as tracked by the ETF ticker, `USO`. \n",
    "\n",
    "As signals, use two interest rate signals, as seen in Treasury-notes. (No need to consider anything specific about Treasury notes, just read these as macroeconomic signals.)\n",
    "* T-note rate\n",
    "* month-over-month change in the T-note rate\n",
    "\n",
    "Find the all data needed for this problem in the sheet `forecasting`.\n",
    "\n",
    "Note that the data in this sheet is monthly, not weekly."
   ]
  },
  {
   "cell_type": "markdown",
   "id": "43b51c40-a422-45dd-8626-72b20fe28315",
   "metadata": {},
   "source": [
    "### 1.\n",
    "\n",
    "Estimate a forecasting regression of $\\targ$ on the two (lagged) signals.\n",
    "\n",
    "$$r_{t+1}^{\\targ} = \\alpha + \\beta^{x}x_t + \\beta^z z_t + \\epsilon_{t+1}$$\n",
    "\n",
    "where\n",
    "* $x$ denotes the interest-rate signal.\n",
    "* $z$ denotes the change in rate signal.\n",
    "\n",
    "Report the r-squared, as well as the OLS estimates for the intercept and the two betas. (No need to annualize the stats.)"
   ]
  },
  {
   "cell_type": "markdown",
   "id": "f5cf4764-2c77-4a08-8c48-dede97175a43",
   "metadata": {},
   "source": [
    "### 2.\n",
    "\n",
    "Use your forecasted returns, $\\hat{r}^{\\targ}_{t+1}$ to build trading weights:\n",
    "\n",
    "$$w_t = 0.50 + 50\\;\\hat{r}^{\\targ}_{t+1}$$\n",
    "\n",
    "(So the rule says to hold 50% in the ETF plus/minus 50x the forecast. Recall the forecast is a monthly percentage, so it is a small number.)\n",
    "\n",
    "Calculate the return from implementing this strategy. Denote this as $r^x_t$.\n",
    "\n",
    "Report the first and last 5 values."
   ]
  },
  {
   "cell_type": "markdown",
   "id": "4a8feaf9-93df-4209-af25-1d57c31d92fd",
   "metadata": {},
   "source": [
    "### 3.\n",
    "\n",
    "Calculate the following (annualized) performance metrics for both the passive investment, $r^\\targ$, as well as the strategy implemented in the previous problem, $r^x$.\n",
    "\n",
    "* mean\n",
    "* volatility\n",
    "* max drawdown\n",
    "\n",
    "**Remember to annualize mean and volatility for monthly data.** (No need to annualize max drawdown.)"
   ]
  },
  {
   "cell_type": "markdown",
   "id": "2b2105e3-4ed2-4cea-8842-20821f86b970",
   "metadata": {},
   "source": [
    "### 4.\n",
    "\n",
    "Comment on whether the active strategy (using forecasting), $r^z$ is an improvement on the passive strategy of just holding $\\targ$ directly."
   ]
  }
 ],
 "metadata": {
  "hide_input": false,
  "kernelspec": {
   "display_name": "Python 3 (ipykernel)",
   "language": "python",
   "name": "python3"
  },
  "language_info": {
   "codemirror_mode": {
    "name": "ipython",
    "version": 3
   },
   "file_extension": ".py",
   "mimetype": "text/x-python",
   "name": "python",
   "nbconvert_exporter": "python",
   "pygments_lexer": "ipython3",
   "version": "3.9.6"
  }
 },
 "nbformat": 4,
 "nbformat_minor": 5
}
