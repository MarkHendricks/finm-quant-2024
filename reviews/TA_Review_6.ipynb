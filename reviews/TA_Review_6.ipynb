{
 "cells": [
  {
   "cell_type": "markdown",
   "metadata": {},
   "source": [
    "# FINM 250 - TA Review 6 - Object Oriented Programming\n",
    "\n",
    "## Tobias Rodriguez del Pozo\n",
    "\n",
    "## 1. What is Object Oriented Programming (OOP)?\n",
    "\n",
    "OOP is a programming paradigm, with the other two being procedural and functional programming. It is a way of structuring code that allows for the creation of objects that contain both data and functions. This allows for the creation of reusable code and makes it easier to write and maintain code. The core component of OOP is the *class*, which really just means a blueprint, or structure, that contains data and functions. The data is called *attributes* and the functions are called *methods*. Note that Python is unique because everything is an object, meaning that functions, ints, strings, etc. are all objects. This is not the case in other languages, such as C, where only classes are objects.\n",
    "\n",
    "## 2. Classes\n",
    "\n",
    "What do we need to define a class in Python? Suppose we want to create a class called `House`, that has attributes such as price, number of bedrooms, square feet, etc. but we also want to calculate the estimated daily/monthly/yearly water and electricity usage."
   ]
  },
  {
   "cell_type": "code",
   "execution_count": 1,
   "metadata": {},
   "outputs": [
    {
     "data": {
      "text/plain": [
       "House(Price: 10,000,000.00, Square Feet: 5,000, Number of Bedrooms: 5)"
      ]
     },
     "execution_count": 1,
     "metadata": {},
     "output_type": "execute_result"
    }
   ],
   "source": [
    "# Use the keyword \"class\" to define a class -- just like \"def\" for a function.\n",
    "class House:\n",
    "    # Next, define a function called __init__ that takes in a parameter called self, price, and number of bedrooms.\n",
    "    def __init__(self, price, num_beds, sq_feet):\n",
    "        # When the \"House\" is made, we need to set the price and number of bedrooms.\n",
    "        self.price = price\n",
    "        self.sq_feet = sq_feet\n",
    "        self.num_beds = num_beds\n",
    "        \n",
    "    # Next, define a function called __repr__ that takes in a parameter called self, and makes a string for nice printing.\n",
    "    def __repr__(self):\n",
    "        return f\"House(Price: {self.price:,.2f}, Square Feet: {self.sq_feet:,d}, Number of Bedrooms: {self.num_beds})\"\n",
    "    \n",
    "    # Suppose we want to define a function that calculates the estimated electricity bill for a house.\n",
    "    def calc_electricity_bill(self, rate, num_months):\n",
    "        return num_months * (self.sq_feet * rate + 100 * self.num_beds)\n",
    "    \n",
    "my_house = House(10_000_000, 5, 5_000)\n",
    "my_house"
   ]
  },
  {
   "cell_type": "code",
   "execution_count": 2,
   "metadata": {},
   "outputs": [
    {
     "data": {
      "text/plain": [
       "12000.0"
      ]
     },
     "execution_count": 2,
     "metadata": {},
     "output_type": "execute_result"
    }
   ],
   "source": [
    "my_house.calc_electricity_bill(0.1, 12)"
   ]
  },
  {
   "cell_type": "markdown",
   "metadata": {},
   "source": [
    "### 2.1. Modifying Attributes\n",
    "\n",
    "This is one of the things that can get you into the most trouble when using classes. In particular, all attributes/methods beginning with *self*, are in the scope of the class. That is, if you modify them in a function, you will modify that attribute for all future function calls too! So, be very careful when putting self. in front of everything in a function. The reason for this is that although it can seem convenient to modify attributes directly, it can lead to unexpected behavior, since there isn't a clear distinction between what is an attribute and what is a local variable."
   ]
  },
  {
   "cell_type": "code",
   "execution_count": 3,
   "metadata": {},
   "outputs": [
    {
     "data": {
      "text/plain": [
       "Foo(x: 5)"
      ]
     },
     "execution_count": 3,
     "metadata": {},
     "output_type": "execute_result"
    }
   ],
   "source": [
    "class Foo:\n",
    "    def __init__(self, x):\n",
    "        self.x = x\n",
    "        \n",
    "    def bar(self):\n",
    "        self.x += 1\n",
    "        \n",
    "    def __repr__(self):\n",
    "        return f\"Foo(x: {self.x})\"\n",
    "    \n",
    "Foo(5)"
   ]
  },
  {
   "cell_type": "code",
   "execution_count": 4,
   "metadata": {},
   "outputs": [
    {
     "data": {
      "text/plain": [
       "Foo(x: 6)"
      ]
     },
     "execution_count": 4,
     "metadata": {},
     "output_type": "execute_result"
    }
   ],
   "source": [
    "y = Foo(5)\n",
    "y.bar()\n",
    "y"
   ]
  },
  {
   "cell_type": "markdown",
   "metadata": {},
   "source": [
    "### 2.2 How does Pandas know to return a DataFrame?"
   ]
  },
  {
   "cell_type": "code",
   "execution_count": 5,
   "metadata": {},
   "outputs": [],
   "source": [
    "import pandas as pd\n",
    "\n",
    "my_df = pd.DataFrame({\"A\": [1, 2, 3], \"B\": [4, 5, 6]})\n",
    "\n",
    "# Why does this work?\n",
    "my_df = my_df.reset_index(drop=True)"
   ]
  },
  {
   "cell_type": "code",
   "execution_count": 6,
   "metadata": {},
   "outputs": [
    {
     "data": {
      "text/plain": [
       "Foo(x: 8)"
      ]
     },
     "execution_count": 6,
     "metadata": {},
     "output_type": "execute_result"
    }
   ],
   "source": [
    "# Because we can return the *same* object from a function. That is, an object can return itself!\n",
    "class Foo:\n",
    "    def __init__(self, x):\n",
    "        self.x = x\n",
    "        \n",
    "    def __repr__(self):\n",
    "        return f\"Foo(x: {self.x})\" \n",
    "    \n",
    "    def bar(self):\n",
    "        self.x += 1\n",
    "        return self\n",
    "    \n",
    "Foo(5).bar().bar().bar()"
   ]
  },
  {
   "cell_type": "markdown",
   "metadata": {},
   "source": [
    "### 2.3. Properties and Private Attributes"
   ]
  },
  {
   "cell_type": "code",
   "execution_count": 7,
   "metadata": {},
   "outputs": [
    {
     "data": {
      "text/plain": [
       "NuclearCodes(codes: -7497198780407152400)"
      ]
     },
     "execution_count": 7,
     "metadata": {},
     "output_type": "execute_result"
    }
   ],
   "source": [
    "# Suppose I have some nuclear codes that I want to keep secret. However, I still want to be able to access them. Moreover, I want to be able to check on them to make sure they are still there.\n",
    "\n",
    "class NuclearCodes:\n",
    "    def __init__(self, codes):\n",
    "        self.__codes = codes\n",
    "        \n",
    "    @property\n",
    "    def codes(self):\n",
    "        return hash(self.__codes)\n",
    "    \n",
    "    @codes.setter\n",
    "    def codes(self, codes):\n",
    "        self.__codes = codes\n",
    "        \n",
    "    def __my_secret_function(self):\n",
    "        return \"This is a secret function!\"\n",
    "        \n",
    "    def non_secret_function(self):\n",
    "        return \"A secret function is: \" + self.__my_secret_function()\n",
    "        \n",
    "        \n",
    "    def __repr__(self):\n",
    "        return f\"NuclearCodes(codes: {self.codes})\"\n",
    "    \n",
    "NuclearCodes(\"1234\")"
   ]
  },
  {
   "cell_type": "code",
   "execution_count": 8,
   "metadata": {},
   "outputs": [
    {
     "ename": "AttributeError",
     "evalue": "'NuclearCodes' object has no attribute '__codes'",
     "output_type": "error",
     "traceback": [
      "\u001b[0;31m---------------------------------------------------------------------------\u001b[0m",
      "\u001b[0;31mAttributeError\u001b[0m                            Traceback (most recent call last)",
      "Cell \u001b[0;32mIn[8], line 2\u001b[0m\n\u001b[1;32m      1\u001b[0m \u001b[39m# This doesn't work!\u001b[39;00m\n\u001b[0;32m----> 2\u001b[0m NuclearCodes(\u001b[39m\"\u001b[39;49m\u001b[39m1234\u001b[39;49m\u001b[39m\"\u001b[39;49m)\u001b[39m.\u001b[39;49m__codes\n",
      "\u001b[0;31mAttributeError\u001b[0m: 'NuclearCodes' object has no attribute '__codes'"
     ]
    }
   ],
   "source": [
    "# This doesn't work!\n",
    "NuclearCodes(\"1234\").__codes"
   ]
  },
  {
   "cell_type": "code",
   "execution_count": 9,
   "metadata": {},
   "outputs": [
    {
     "ename": "AttributeError",
     "evalue": "'NuclearCodes' object has no attribute '__my_secret_function'",
     "output_type": "error",
     "traceback": [
      "\u001b[0;31m---------------------------------------------------------------------------\u001b[0m",
      "\u001b[0;31mAttributeError\u001b[0m                            Traceback (most recent call last)",
      "Cell \u001b[0;32mIn[9], line 1\u001b[0m\n\u001b[0;32m----> 1\u001b[0m NuclearCodes(\u001b[39m\"\u001b[39;49m\u001b[39m1234\u001b[39;49m\u001b[39m\"\u001b[39;49m)\u001b[39m.\u001b[39;49m__my_secret_function()\n",
      "\u001b[0;31mAttributeError\u001b[0m: 'NuclearCodes' object has no attribute '__my_secret_function'"
     ]
    }
   ],
   "source": [
    "NuclearCodes(\"1234\").__my_secret_function()"
   ]
  },
  {
   "cell_type": "code",
   "execution_count": 10,
   "metadata": {},
   "outputs": [
    {
     "data": {
      "text/plain": [
       "'A secret function is: This is a secret function!'"
      ]
     },
     "execution_count": 10,
     "metadata": {},
     "output_type": "execute_result"
    }
   ],
   "source": [
    "NuclearCodes(\"1234\").non_secret_function()"
   ]
  },
  {
   "cell_type": "markdown",
   "metadata": {},
   "source": [
    "### 2.4. Inheritance\n",
    "\n",
    "Classes can inherit from other classes. This is useful when you want to create a class that is very similar to another class, but with some minor changes. For example, suppose we want to create a class called `Apartment` that is very similar to `House`, but with the addition of a `floor` attribute. We can do this by inheriting from `House` and adding the `floor` attribute."
   ]
  },
  {
   "cell_type": "code",
   "execution_count": 11,
   "metadata": {},
   "outputs": [
    {
     "data": {
      "text/plain": [
       "Apartment(Price: 10,000,000.00, Square Feet: 3,000, Number of Bedrooms: 2, Floor: 10)"
      ]
     },
     "execution_count": 11,
     "metadata": {},
     "output_type": "execute_result"
    }
   ],
   "source": [
    "# Put House in parentheses to inherit from House.\n",
    "class Apartment(House):\n",
    "    def __init__(self, price, num_beds, sq_feet, floor):\n",
    "        # super() is a special function that allows us to access the parent class.\n",
    "        super().__init__(price, num_beds, sq_feet)\n",
    "        self.floor = floor\n",
    "        \n",
    "    def __repr__(self):\n",
    "        return f\"Apartment(Price: {self.price:,.2f}, Square Feet: {self.sq_feet:,d}, Number of Bedrooms: {self.num_beds}, Floor: {self.floor})\"\n",
    "    \n",
    "Apartment(10_000_000, 2, 3_000, 10)"
   ]
  },
  {
   "cell_type": "code",
   "execution_count": 12,
   "metadata": {},
   "outputs": [
    {
     "data": {
      "text/plain": [
       "6000.0"
      ]
     },
     "execution_count": 12,
     "metadata": {},
     "output_type": "execute_result"
    }
   ],
   "source": [
    "Apartment(10_000_000, 2, 3_000, 10).calc_electricity_bill(0.1, 12)"
   ]
  },
  {
   "cell_type": "markdown",
   "metadata": {},
   "source": [
    "Note: Inheritance can get *very* messy, very quickly. Especially when you have multiple levels of inheritance. So, be careful when using it.\n",
    "\n",
    "### 2.5. Magic Methods (dunder methods)"
   ]
  },
  {
   "cell_type": "code",
   "execution_count": 13,
   "metadata": {},
   "outputs": [
    {
     "data": {
      "text/plain": [
       "[2, 3, 4]"
      ]
     },
     "execution_count": 13,
     "metadata": {},
     "output_type": "execute_result"
    }
   ],
   "source": [
    "# Python gives us access to a lot of dunder methods, which are special methods that allow us to do things like add two objects together, or compare two objects.\n",
    "# We have already seen these dunder methods:\n",
    "# __init__ : Initialize an object\n",
    "# __repr__ : Make a string representation of an object\n",
    "# How many dunder methods are there? A lot! See https://docs.python.org/3/reference/datamodel.html#special-method-names for a full list.\n",
    "\n",
    "# From TA Review 3:\n",
    "\n",
    "# We introduce another special method, __add__(), which is called when we use the \"+\" operator.\n",
    "# It allows us to *define* what happens when we use the \"+\" operator on our own classes, and what\n",
    "# it means to add two instances of our class together - or to add our class to another class.\n",
    "\n",
    "# Suppose I am fed up of not being able to add a scaler to a list, and I want to define my own\n",
    "# class that allows me to do this. I can do this by defining my own class, and defining the __add__()\n",
    "# method to work for my class.\n",
    "\n",
    "# Why might this be a bad idea? Hint: Line 513 of this file: https://github.com/python/cpython/blob/main/Objects/listobject.c\n",
    "# What language is this file in? What does this mean for performance of TobiasList?\n",
    "\n",
    "\n",
    "class TobiasList(list):\n",
    "    # Iterator and dictionary unpacking!\n",
    "    def __init__(self, *args, **kwargs):\n",
    "        super().__init__(*args, **kwargs)\n",
    "\n",
    "    def __add__(self, other):\n",
    "        # Check if this is a scaler.\n",
    "        if isinstance(other, int) or isinstance(other, float):\n",
    "            return [i + other for i in self]\n",
    "        else:\n",
    "            # Otherwise, just use the default list addition.\n",
    "            return super().__add__(other)\n",
    "\n",
    "    def __mul__(self, other) -> list:\n",
    "        # Check if this is a scaler.\n",
    "        if isinstance(other, int) or isinstance(other, float):\n",
    "            return [i * other for i in self]\n",
    "        else:\n",
    "            # Otherwise, just use the default list addition.\n",
    "            return super().__mul__(other)\n",
    "\n",
    "    def __pow__(self, other) -> list:\n",
    "        if isinstance(other, int) or isinstance(other, float):\n",
    "            return [i**other for i in self]\n",
    "        else:\n",
    "            return super().__pow__(other)\n",
    "        \n",
    "l = TobiasList([1, 2, 3])\n",
    "l + 1"
   ]
  },
  {
   "cell_type": "code",
   "execution_count": 14,
   "metadata": {},
   "outputs": [
    {
     "data": {
      "text/plain": [
       "['__class__',\n",
       " '__delattr__',\n",
       " '__dict__',\n",
       " '__dir__',\n",
       " '__doc__',\n",
       " '__eq__',\n",
       " '__format__',\n",
       " '__ge__',\n",
       " '__getattribute__',\n",
       " '__gt__',\n",
       " '__hash__',\n",
       " '__init__',\n",
       " '__init_subclass__',\n",
       " '__le__',\n",
       " '__lt__',\n",
       " '__module__',\n",
       " '__ne__',\n",
       " '__new__',\n",
       " '__reduce__',\n",
       " '__reduce_ex__',\n",
       " '__repr__',\n",
       " '__setattr__',\n",
       " '__sizeof__',\n",
       " '__str__',\n",
       " '__subclasshook__',\n",
       " '__weakref__',\n",
       " 'calc_electricity_bill']"
      ]
     },
     "execution_count": 14,
     "metadata": {},
     "output_type": "execute_result"
    }
   ],
   "source": [
    "# To check what methods and attributes we have access to, we can use the dir() function.\n",
    "dir(House)"
   ]
  },
  {
   "cell_type": "code",
   "execution_count": 15,
   "metadata": {},
   "outputs": [
    {
     "data": {
      "text/plain": [
       "['__abs__',\n",
       " '__add__',\n",
       " '__and__',\n",
       " '__bool__',\n",
       " '__ceil__',\n",
       " '__class__',\n",
       " '__delattr__',\n",
       " '__dir__',\n",
       " '__divmod__',\n",
       " '__doc__',\n",
       " '__eq__',\n",
       " '__float__',\n",
       " '__floor__',\n",
       " '__floordiv__',\n",
       " '__format__',\n",
       " '__ge__',\n",
       " '__getattribute__',\n",
       " '__getnewargs__',\n",
       " '__gt__',\n",
       " '__hash__',\n",
       " '__index__',\n",
       " '__init__',\n",
       " '__init_subclass__',\n",
       " '__int__',\n",
       " '__invert__',\n",
       " '__le__',\n",
       " '__lshift__',\n",
       " '__lt__',\n",
       " '__mod__',\n",
       " '__mul__',\n",
       " '__ne__',\n",
       " '__neg__',\n",
       " '__new__',\n",
       " '__or__',\n",
       " '__pos__',\n",
       " '__pow__',\n",
       " '__radd__',\n",
       " '__rand__',\n",
       " '__rdivmod__',\n",
       " '__reduce__',\n",
       " '__reduce_ex__',\n",
       " '__repr__',\n",
       " '__rfloordiv__',\n",
       " '__rlshift__',\n",
       " '__rmod__',\n",
       " '__rmul__',\n",
       " '__ror__',\n",
       " '__round__',\n",
       " '__rpow__',\n",
       " '__rrshift__',\n",
       " '__rshift__',\n",
       " '__rsub__',\n",
       " '__rtruediv__',\n",
       " '__rxor__',\n",
       " '__setattr__',\n",
       " '__sizeof__',\n",
       " '__str__',\n",
       " '__sub__',\n",
       " '__subclasshook__',\n",
       " '__truediv__',\n",
       " '__trunc__',\n",
       " '__xor__',\n",
       " 'as_integer_ratio',\n",
       " 'bit_count',\n",
       " 'bit_length',\n",
       " 'conjugate',\n",
       " 'denominator',\n",
       " 'from_bytes',\n",
       " 'imag',\n",
       " 'numerator',\n",
       " 'real',\n",
       " 'to_bytes']"
      ]
     },
     "execution_count": 15,
     "metadata": {},
     "output_type": "execute_result"
    }
   ],
   "source": [
    "dir(int)"
   ]
  },
  {
   "cell_type": "markdown",
   "metadata": {},
   "source": [
    "### 2.6. Static Methods and Class Methods\n",
    "\n",
    "So far, we have only seen instance methods, which are methods that are called on an instance of a class. However, there are two other types of methods: static methods and class methods. Static methods are methods that are not associated with any instance of a class. They are just functions that are defined inside a class. Class methods are methods that are associated with a class, but not with any instance of a class. An example:"
   ]
  },
  {
   "cell_type": "code",
   "execution_count": 16,
   "metadata": {},
   "outputs": [
    {
     "data": {
      "text/plain": [
       "'This is a static method!'"
      ]
     },
     "execution_count": 16,
     "metadata": {},
     "output_type": "execute_result"
    }
   ],
   "source": [
    "class MyStaticClass:\n",
    "    @staticmethod\n",
    "    # Note how we don't need to pass in self.\n",
    "    def my_static_method():\n",
    "        return \"This is a static method!\"\n",
    "    \n",
    "    @staticmethod\n",
    "    def plus_one(x):\n",
    "        return x + 1\n",
    "    \n",
    "    def my_non_static_method(self):\n",
    "        return \"This is a non-static method!\"\n",
    "    \n",
    "MyStaticClass.my_static_method()"
   ]
  },
  {
   "cell_type": "code",
   "execution_count": 17,
   "metadata": {},
   "outputs": [
    {
     "data": {
      "text/plain": [
       "6"
      ]
     },
     "execution_count": 17,
     "metadata": {},
     "output_type": "execute_result"
    }
   ],
   "source": [
    "MyStaticClass.plus_one(5)"
   ]
  },
  {
   "cell_type": "code",
   "execution_count": 18,
   "metadata": {},
   "outputs": [
    {
     "ename": "TypeError",
     "evalue": "MyStaticClass.my_non_static_method() missing 1 required positional argument: 'self'",
     "output_type": "error",
     "traceback": [
      "\u001b[0;31m---------------------------------------------------------------------------\u001b[0m",
      "\u001b[0;31mTypeError\u001b[0m                                 Traceback (most recent call last)",
      "Cell \u001b[0;32mIn[18], line 1\u001b[0m\n\u001b[0;32m----> 1\u001b[0m MyStaticClass\u001b[39m.\u001b[39;49mmy_non_static_method()\n",
      "\u001b[0;31mTypeError\u001b[0m: MyStaticClass.my_non_static_method() missing 1 required positional argument: 'self'"
     ]
    }
   ],
   "source": [
    "MyStaticClass.my_non_static_method()"
   ]
  },
  {
   "cell_type": "code",
   "execution_count": 19,
   "metadata": {},
   "outputs": [
    {
     "data": {
      "text/plain": [
       "'This is a non-static method!'"
      ]
     },
     "execution_count": 19,
     "metadata": {},
     "output_type": "execute_result"
    }
   ],
   "source": [
    "MyStaticClass().my_non_static_method()"
   ]
  },
  {
   "cell_type": "code",
   "execution_count": 20,
   "metadata": {},
   "outputs": [],
   "source": [
    "# For class methods, lets say we want to make a bunch of houses. We want to keep track of how many houses we have made, and the average price. We also want to store all the houses we have made in a list.\n",
    "\n",
    "class HouseFactory:\n",
    "    # We use a class variable to keep track of how many houses we have made.\n",
    "    num_houses = 0\n",
    "    total_price = 0\n",
    "    houses = []\n",
    "    \n",
    "    # Classmethods are very useful for objects that make other objects.\n",
    "    @classmethod\n",
    "    def make_house(cls, price, num_beds, sq_feet):\n",
    "        cls.num_houses += 1\n",
    "        cls.total_price += price\n",
    "        cls.houses.append(House(price, num_beds, sq_feet))\n",
    "        \n",
    "    @classmethod\n",
    "    def average_price(cls):\n",
    "        return cls.total_price / cls.num_houses\n",
    "    \n",
    "HouseFactory.make_house(10_000_000, 5, 5_000)\n",
    "HouseFactory.make_house(50_000_000, 5, 4_000)\n",
    "HouseFactory.make_house(6_000_000, 5, 3_000)"
   ]
  },
  {
   "cell_type": "code",
   "execution_count": 21,
   "metadata": {},
   "outputs": [
    {
     "data": {
      "text/plain": [
       "3"
      ]
     },
     "execution_count": 21,
     "metadata": {},
     "output_type": "execute_result"
    }
   ],
   "source": [
    "HouseFactory.num_houses"
   ]
  },
  {
   "cell_type": "code",
   "execution_count": 22,
   "metadata": {},
   "outputs": [
    {
     "data": {
      "text/plain": [
       "22000000.0"
      ]
     },
     "execution_count": 22,
     "metadata": {},
     "output_type": "execute_result"
    }
   ],
   "source": [
    "HouseFactory.average_price()"
   ]
  },
  {
   "cell_type": "markdown",
   "metadata": {},
   "source": [
    "### 2.7. Class-ish Objects; Named Tuples, Enums, Data Classes"
   ]
  },
  {
   "cell_type": "code",
   "execution_count": 23,
   "metadata": {},
   "outputs": [
    {
     "name": "stdout",
     "output_type": "stream",
     "text": [
      "10000000\n",
      "HouseNew(price=10000000, num_beds=5, sq_feet=5000)\n",
      "12000.0\n"
     ]
    },
    {
     "ename": "AttributeError",
     "evalue": "can't set attribute",
     "output_type": "error",
     "traceback": [
      "\u001b[0;31m---------------------------------------------------------------------------\u001b[0m",
      "\u001b[0;31mAttributeError\u001b[0m                            Traceback (most recent call last)",
      "Cell \u001b[0;32mIn[23], line 19\u001b[0m\n\u001b[1;32m     16\u001b[0m \u001b[39mprint\u001b[39m(my_house\u001b[39m.\u001b[39mcalc_electricity_bill(\u001b[39m0.1\u001b[39m, \u001b[39m12\u001b[39m))\n\u001b[1;32m     18\u001b[0m \u001b[39m# We can't change the attributes of a namedtuple.\u001b[39;00m\n\u001b[0;32m---> 19\u001b[0m my_house\u001b[39m.\u001b[39;49mprice \u001b[39m=\u001b[39m \u001b[39m5\u001b[39m\n",
      "\u001b[0;31mAttributeError\u001b[0m: can't set attribute"
     ]
    }
   ],
   "source": [
    "from collections import namedtuple\n",
    "\n",
    "# Suppose we want something that has attributes, but we don't want to make a class. We can use a namedtuple.\n",
    "# We can think of a namedtuple as a class that we can't change, and for performance reasons, is more efficient than a class (no __dict__).\n",
    "\n",
    "HouseNew = namedtuple(\"HouseNew\", [\"price\", \"num_beds\", \"sq_feet\"])\n",
    "\n",
    "my_house = HouseNew(10_000_000, 5, 5_000)\n",
    "\n",
    "# We can make a namedtuple just like a class.\n",
    "print(my_house.price)\n",
    "print(my_house)\n",
    "\n",
    "# We can add a function to a namedtuple.\n",
    "HouseNew.calc_electricity_bill = lambda self, rate, num_months: num_months * (self.sq_feet * rate + 100 * self.num_beds)\n",
    "print(my_house.calc_electricity_bill(0.1, 12))\n",
    "\n",
    "# We can't change the attributes of a namedtuple.\n",
    "my_house.price = 5"
   ]
  },
  {
   "cell_type": "code",
   "execution_count": 24,
   "metadata": {},
   "outputs": [
    {
     "name": "stdout",
     "output_type": "stream",
     "text": [
      "DAYS_TO_YEAR 365\n"
     ]
    }
   ],
   "source": [
    "# Enumerations are useful for when we want to define a set of constants.\n",
    "from enum import Enum\n",
    "\n",
    "class Conversion(Enum):\n",
    "    DAYS_TO_YEAR = 365\n",
    "    DAYS_TO_MONTH = 30\n",
    "    WEEKS_TO_YEAR = 52\n",
    "\n",
    "# We can access the value of an enumeration.\n",
    "print(Conversion.DAYS_TO_YEAR.name, Conversion.DAYS_TO_YEAR.value)"
   ]
  },
  {
   "cell_type": "code",
   "execution_count": 25,
   "metadata": {},
   "outputs": [
    {
     "data": {
      "text/plain": [
       "HouseDataClass(price=10000000, num_beds=5, sq_feet=5000)"
      ]
     },
     "execution_count": 25,
     "metadata": {},
     "output_type": "execute_result"
    }
   ],
   "source": [
    "# Finally, dataclasses are useful for when we want to make a class that is just a container for data (no methods). These are very similar to a namedtuple.\n",
    "from dataclasses import dataclass\n",
    "\n",
    "@dataclass\n",
    "class HouseDataClass:\n",
    "    price: int\n",
    "    num_beds: int\n",
    "    sq_feet: int\n",
    "    \n",
    "HouseDataClass(10_000_000, 5, 5_000)"
   ]
  }
 ],
 "metadata": {
  "kernelspec": {
   "display_name": "Python 3",
   "language": "python",
   "name": "python3"
  },
  "language_info": {
   "codemirror_mode": {
    "name": "ipython",
    "version": 3
   },
   "file_extension": ".py",
   "mimetype": "text/x-python",
   "name": "python",
   "nbconvert_exporter": "python",
   "pygments_lexer": "ipython3",
   "version": "3.10.12"
  },
  "orig_nbformat": 4
 },
 "nbformat": 4,
 "nbformat_minor": 2
}
