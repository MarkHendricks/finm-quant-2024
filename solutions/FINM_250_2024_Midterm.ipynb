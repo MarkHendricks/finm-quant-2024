{
 "cells": [
  {
   "cell_type": "markdown",
   "id": "29b2f936",
   "metadata": {},
   "source": [
    "# Midterm Solutions\n",
    "\n",
    "## FINM 25000 - 2024\n",
    "\n",
    "### UChicago Financial Mathematics\n",
    "\n",
    "* Tobias Rodriguez del Pozo\n",
    "* tobiasdelpozo@uchicago.edu"
   ]
  },
  {
   "cell_type": "markdown",
   "id": "af28e7fd",
   "metadata": {},
   "source": [
    "# Instructions"
   ]
  },
  {
   "cell_type": "markdown",
   "id": "a4dd63ff",
   "metadata": {},
   "source": [
    "## Please note the following:\n",
    "\n",
    "Points\n",
    "* The exam is `115` points.\n",
    "* You have `180` minutes to complete the exam.\n",
    "* For every minute late you submit the exam, you will lose one point.\n",
    "\n",
    "Submission\n",
    "* You will upload your solution to the `Midterm` assignment on Canvas. (Be sure to **submit** on Canvas, not just **save** on Canvas.\n",
    "* Your submission should be readable, (the graders can understand your answers,) and it should **include all code used in your analysis in a file format that the code can be executed.** \n",
    "\n",
    "Rules\n",
    "* The exam is open-material, closed-communication.\n",
    "* You do not need to cite material from the course github repo--you are welcome to use the code posted there without citation.\n",
    "\n",
    "Advice\n",
    "* If you find any question to be unclear, state your interpretation and proceed. We will only answer questions of interpretation if there is a typo, error, etc.\n",
    "* The exam will be graded for partial credit."
   ]
  },
  {
   "cell_type": "markdown",
   "id": "1960a3c5",
   "metadata": {},
   "source": [
    "## Data\n",
    "\n",
    "**All data files are found in the class github repo, in the `data` folder.**\n",
    "\n",
    "This exam makes use of the following data files:\n",
    "* `midterm_data.xlsx`\n",
    "\n",
    "This file has sheets for...\n",
    "* `info` - names of each stock ticker\n",
    "* `excess returns` - weekly excess returns on several stocks\n",
    "* `SPY` - weekly excess returns on SPY\n",
    "* `forecasting` - monthly data on `USO` asset returns and two forecasting signals.\n",
    "\n",
    "Note \n",
    "* the data for `excess returns` and `SPY` is **weekly** so any annualizations should use `52` weeks in a year.\n",
    "* the data for `forecasting` is monthly, so any annualization should use `12` months in a year."
   ]
  },
  {
   "cell_type": "markdown",
   "id": "336f6568",
   "metadata": {},
   "source": [
    "#### If useful\n",
    "here is code to load in the data."
   ]
  },
  {
   "cell_type": "code",
   "execution_count": 15,
   "id": "0015b7a4",
   "metadata": {},
   "outputs": [],
   "source": [
    "import pandas as pd\n",
    "import numpy as np"
   ]
  },
  {
   "cell_type": "code",
   "execution_count": 16,
   "id": "344abdac",
   "metadata": {},
   "outputs": [],
   "source": [
    "FILEIN = '../data/midterm_data.xlsx'\n",
    "sheet_exrets = 'excess returns'\n",
    "sheet_spy = 'spy'\n",
    "\n",
    "retsx = pd.read_excel(FILEIN, sheet_name=sheet_exrets, index_col=0, parse_dates=[0])\n",
    "spy = pd.read_excel(FILEIN, sheet_name=sheet_spy, index_col=0, parse_dates=[0])"
   ]
  },
  {
   "cell_type": "markdown",
   "id": "d0af33e1",
   "metadata": {},
   "source": [
    "## Scoring\n",
    "\n",
    "| Problem | Points |\n",
    "|---------|--------|\n",
    "| 1       | 50     |\n",
    "| 2       | 25     |\n",
    "| 3       | 20     |\n",
    "| 4       | 20     |"
   ]
  },
  {
   "cell_type": "markdown",
   "id": "c158c236",
   "metadata": {},
   "source": [
    "### Each numbered question is worth 5 points."
   ]
  },
  {
   "cell_type": "markdown",
   "id": "362090a7",
   "metadata": {},
   "source": [
    "### Notation\n",
    "(Hidden LaTeX commands)\n",
    "\n",
    "$$\\newcommand{\\mux}{\\tilde{\\boldsymbol{\\mu}}}$$\n",
    "$$\\newcommand{\\wtan}{\\boldsymbol{\\text{w}}^{\\text{tan}}}$$\n",
    "$$\\newcommand{\\wtarg}{\\boldsymbol{\\text{w}}^{\\text{port}}}$$\n",
    "$$\\newcommand{\\mutarg}{\\tilde{\\boldsymbol{\\mu}}^{\\text{port}}}$$\n",
    "$$\\newcommand{\\wEW}{\\boldsymbol{\\text{w}}^{\\text{EW}}}$$\n",
    "$$\\newcommand{\\wRP}{\\boldsymbol{\\text{w}}^{\\text{RP}}}$$\n",
    "$$\\newcommand{\\wREG}{\\boldsymbol{\\text{w}}^{\\text{REG}}}$$\n",
    "$$\\newcommand{\\targ}{\\text{USO}}$$"
   ]
  },
  {
   "cell_type": "markdown",
   "id": "40926a81",
   "metadata": {},
   "source": [
    "# 1. Short Answer"
   ]
  },
  {
   "cell_type": "markdown",
   "id": "d29c0d60",
   "metadata": {},
   "source": [
    "### No Data Needed\n",
    "\n",
    "These problem does not require any data file. Rather, analyze the situation conceptually, based on the information below. "
   ]
  },
  {
   "cell_type": "markdown",
   "id": "d086f971",
   "metadata": {},
   "source": [
    "### 1\n",
    "\n",
    "In what sense was ProShares `HDG` successful in hedging the `HFRI`, and in what sense was it unsuccessful in tracking the `HFRI`?"
   ]
  },
  {
   "cell_type": "markdown",
   "id": "ea8b7e68",
   "metadata": {},
   "source": [
    "### 2\n",
    "\n",
    "Did we find that **TIPS** have been useful in expanding the mean-variance frontier in the past? Did we conclude they might be useful in the future? Explain."
   ]
  },
  {
   "cell_type": "markdown",
   "id": "8b88f0d5-333a-4c33-af1a-48c97c5a1880",
   "metadata": {},
   "source": [
    "### 3.\n",
    "\n",
    "Consider a Linear Factor Pricing Model (LFPM).\n",
    "\n",
    "Which metric do we examine to understand its fit, (or errors)?"
   ]
  },
  {
   "cell_type": "markdown",
   "id": "ea97348b",
   "metadata": {},
   "source": [
    "### 4.\n",
    "\n",
    "What aspect of the classic mean-variance optimization approach leads to extreme answers? How did regularization help with this issue?"
   ]
  },
  {
   "cell_type": "markdown",
   "id": "3d1b97d0-6219-4980-af49-da979de90d33",
   "metadata": {},
   "source": [
    "### 5.\n",
    "\n",
    "Suppose investors are **not** mean-variance investors. If we find an investment with a Sharpe ratio higher than the \"market\", would this would be inconsistent with the CAPM?"
   ]
  },
  {
   "cell_type": "markdown",
   "id": "c82adefc-a007-4f3e-a8d7-d46d9843303f",
   "metadata": {},
   "source": [
    "### 6.\n",
    "\n",
    "Which is more useful in assessing the model’s fit for pricing: the r-squared of the time-series regressions, the r-squared of the cross-sectional regression, or neither?"
   ]
  },
  {
   "cell_type": "markdown",
   "id": "7f86b988-7f73-4abd-bf5b-503c65afa840",
   "metadata": {},
   "source": [
    "### 7.\n",
    "\n",
    "GMO stated that they had a “contrarian” investment style. What did they mean by this? Was this seen in our investigation of the fund, GMWAX?"
   ]
  },
  {
   "cell_type": "markdown",
   "id": "cf2f17f1-b26e-4cd6-8fc8-88b7f270c92b",
   "metadata": {},
   "source": [
    "### 8.\n",
    "\n",
    "How does Harvard make their portfolio allocation more realistic than a basic mean- variance optimization would imply? Is their approach easily implemented and computed from a numerical standpoint?"
   ]
  },
  {
   "cell_type": "markdown",
   "id": "3a001e9c-5f43-4de3-bacd-15827b4f0edd",
   "metadata": {},
   "source": [
    "### 9.\n",
    "\n",
    "If we want to hedge a portfolio's returns with respect to SPY, how could we calculate the optimal ratio? How would this ratio then be used to build the hedged position?"
   ]
  },
  {
   "cell_type": "markdown",
   "id": "c40c1ff5-a5df-447e-881e-ddd3823187d7",
   "metadata": {},
   "source": [
    "### 10.\n",
    "\n",
    "Name one way in which Fama and French construct the factors that helps reduce cross- factor correlation."
   ]
  },
  {
   "cell_type": "markdown",
   "id": "55e42346",
   "metadata": {},
   "source": [
    "***"
   ]
  },
  {
   "cell_type": "markdown",
   "id": "2d66389e",
   "metadata": {},
   "source": [
    "# 2. Allocation\n"
   ]
  },
  {
   "cell_type": "markdown",
   "id": "68b67603",
   "metadata": {},
   "source": [
    "Consider a mean-variance optimization of **excess** returns provided in `midterm_data.xlsx.`"
   ]
  },
  {
   "cell_type": "markdown",
   "id": "ebe496df",
   "metadata": {},
   "source": [
    "### 1. \n",
    "\n",
    "Report the following **annualized** statistics:\n",
    "* mean\n",
    "* volatility\n",
    "* Sharpe ratio"
   ]
  },
  {
   "cell_type": "code",
   "execution_count": 17,
   "id": "48df83a1",
   "metadata": {},
   "outputs": [
    {
     "data": {
      "text/html": [
       "<div>\n",
       "<style scoped>\n",
       "    .dataframe tbody tr th:only-of-type {\n",
       "        vertical-align: middle;\n",
       "    }\n",
       "\n",
       "    .dataframe tbody tr th {\n",
       "        vertical-align: top;\n",
       "    }\n",
       "\n",
       "    .dataframe thead th {\n",
       "        text-align: right;\n",
       "    }\n",
       "</style>\n",
       "<table border=\"1\" class=\"dataframe\">\n",
       "  <thead>\n",
       "    <tr style=\"text-align: right;\">\n",
       "      <th></th>\n",
       "      <th>Annualized Return</th>\n",
       "      <th>Annualized Volatility</th>\n",
       "      <th>Annualized Sharpe Ratio</th>\n",
       "      <th>Annualized Sortino Ratio</th>\n",
       "    </tr>\n",
       "  </thead>\n",
       "  <tbody>\n",
       "    <tr>\n",
       "      <th>AAPL</th>\n",
       "      <td>0.319421</td>\n",
       "      <td>0.283883</td>\n",
       "      <td>1.125183</td>\n",
       "      <td>1.569426</td>\n",
       "    </tr>\n",
       "    <tr>\n",
       "      <th>MSFT</th>\n",
       "      <td>0.288087</td>\n",
       "      <td>0.240206</td>\n",
       "      <td>1.199334</td>\n",
       "      <td>1.705011</td>\n",
       "    </tr>\n",
       "    <tr>\n",
       "      <th>AMZN</th>\n",
       "      <td>0.239457</td>\n",
       "      <td>0.310389</td>\n",
       "      <td>0.771474</td>\n",
       "      <td>1.108573</td>\n",
       "    </tr>\n",
       "    <tr>\n",
       "      <th>NVDA</th>\n",
       "      <td>0.650658</td>\n",
       "      <td>0.468096</td>\n",
       "      <td>1.390011</td>\n",
       "      <td>2.371656</td>\n",
       "    </tr>\n",
       "    <tr>\n",
       "      <th>GOOGL</th>\n",
       "      <td>0.193328</td>\n",
       "      <td>0.274217</td>\n",
       "      <td>0.705020</td>\n",
       "      <td>1.120251</td>\n",
       "    </tr>\n",
       "    <tr>\n",
       "      <th>TSLA</th>\n",
       "      <td>0.569728</td>\n",
       "      <td>0.607026</td>\n",
       "      <td>0.938556</td>\n",
       "      <td>1.642329</td>\n",
       "    </tr>\n",
       "    <tr>\n",
       "      <th>XOM</th>\n",
       "      <td>0.124196</td>\n",
       "      <td>0.311613</td>\n",
       "      <td>0.398557</td>\n",
       "      <td>0.571626</td>\n",
       "    </tr>\n",
       "  </tbody>\n",
       "</table>\n",
       "</div>"
      ],
      "text/plain": [
       "       Annualized Return  Annualized Volatility  Annualized Sharpe Ratio  \\\n",
       "AAPL            0.319421               0.283883                 1.125183   \n",
       "MSFT            0.288087               0.240206                 1.199334   \n",
       "AMZN            0.239457               0.310389                 0.771474   \n",
       "NVDA            0.650658               0.468096                 1.390011   \n",
       "GOOGL           0.193328               0.274217                 0.705020   \n",
       "TSLA            0.569728               0.607026                 0.938556   \n",
       "XOM             0.124196               0.311613                 0.398557   \n",
       "\n",
       "       Annualized Sortino Ratio  \n",
       "AAPL                   1.569426  \n",
       "MSFT                   1.705011  \n",
       "AMZN                   1.108573  \n",
       "NVDA                   2.371656  \n",
       "GOOGL                  1.120251  \n",
       "TSLA                   1.642329  \n",
       "XOM                    0.571626  "
      ]
     },
     "execution_count": 17,
     "metadata": {},
     "output_type": "execute_result"
    }
   ],
   "source": [
    "import sys\n",
    "sys.path.append('../cmds')\n",
    "from utils import calc_risk_metrics, calc_return_metrics, calc_performance_metrics, calc_multivariate_regression, calc_mv_portfolio, calc_iterative_regression, calc_univariate_regression\n",
    "\n",
    "metrics = calc_return_metrics(retsx, as_df=True, adj=52)\n",
    "metrics"
   ]
  },
  {
   "cell_type": "markdown",
   "id": "0bbedca6-c330-413e-a39d-8f90ab671df2",
   "metadata": {},
   "source": [
    "### 2.\n",
    "\n",
    "Report the weights of the tangency portfolio."
   ]
  },
  {
   "cell_type": "code",
   "execution_count": 18,
   "id": "81871fe0",
   "metadata": {},
   "outputs": [
    {
     "data": {
      "text/html": [
       "<div>\n",
       "<style scoped>\n",
       "    .dataframe tbody tr th:only-of-type {\n",
       "        vertical-align: middle;\n",
       "    }\n",
       "\n",
       "    .dataframe tbody tr th {\n",
       "        vertical-align: top;\n",
       "    }\n",
       "\n",
       "    .dataframe thead th {\n",
       "        text-align: right;\n",
       "    }\n",
       "</style>\n",
       "<table border=\"1\" class=\"dataframe\">\n",
       "  <thead>\n",
       "    <tr style=\"text-align: right;\">\n",
       "      <th></th>\n",
       "      <th>Tan Portfolio</th>\n",
       "    </tr>\n",
       "  </thead>\n",
       "  <tbody>\n",
       "    <tr>\n",
       "      <th>AAPL</th>\n",
       "      <td>0.322605</td>\n",
       "    </tr>\n",
       "    <tr>\n",
       "      <th>MSFT</th>\n",
       "      <td>0.787496</td>\n",
       "    </tr>\n",
       "    <tr>\n",
       "      <th>AMZN</th>\n",
       "      <td>-0.228607</td>\n",
       "    </tr>\n",
       "    <tr>\n",
       "      <th>NVDA</th>\n",
       "      <td>0.495996</td>\n",
       "    </tr>\n",
       "    <tr>\n",
       "      <th>GOOGL</th>\n",
       "      <td>-0.502721</td>\n",
       "    </tr>\n",
       "    <tr>\n",
       "      <th>TSLA</th>\n",
       "      <td>0.105975</td>\n",
       "    </tr>\n",
       "    <tr>\n",
       "      <th>XOM</th>\n",
       "      <td>0.019257</td>\n",
       "    </tr>\n",
       "  </tbody>\n",
       "</table>\n",
       "</div>"
      ],
      "text/plain": [
       "       Tan Portfolio\n",
       "AAPL        0.322605\n",
       "MSFT        0.787496\n",
       "AMZN       -0.228607\n",
       "NVDA        0.495996\n",
       "GOOGL      -0.502721\n",
       "TSLA        0.105975\n",
       "XOM         0.019257"
      ]
     },
     "execution_count": 18,
     "metadata": {},
     "output_type": "execute_result"
    }
   ],
   "source": [
    "tan = calc_mv_portfolio(retsx.mean(), retsx.cov(), excess=True)\n",
    "tan = pd.DataFrame(data=tan, columns=['Tan Portfolio'], index=retsx.columns)\n",
    "tan"
   ]
  },
  {
   "cell_type": "markdown",
   "id": "c2cbc4af-b1f8-4955-bc99-66b04f1ed658",
   "metadata": {},
   "source": [
    "### 3.\n",
    "Report the Sharpe ratio achieved by the tangency portfolio over this sample. Annualize it (accounting for weekly data.)"
   ]
  },
  {
   "cell_type": "code",
   "execution_count": 19,
   "id": "b194f474",
   "metadata": {},
   "outputs": [
    {
     "data": {
      "text/html": [
       "<div>\n",
       "<style scoped>\n",
       "    .dataframe tbody tr th:only-of-type {\n",
       "        vertical-align: middle;\n",
       "    }\n",
       "\n",
       "    .dataframe tbody tr th {\n",
       "        vertical-align: top;\n",
       "    }\n",
       "\n",
       "    .dataframe thead th {\n",
       "        text-align: right;\n",
       "    }\n",
       "</style>\n",
       "<table border=\"1\" class=\"dataframe\">\n",
       "  <thead>\n",
       "    <tr style=\"text-align: right;\">\n",
       "      <th></th>\n",
       "      <th>Tan Portfolio</th>\n",
       "    </tr>\n",
       "  </thead>\n",
       "  <tbody>\n",
       "    <tr>\n",
       "      <th>Annualized Return</th>\n",
       "      <td>0.563474</td>\n",
       "    </tr>\n",
       "    <tr>\n",
       "      <th>Annualized Volatility</th>\n",
       "      <td>0.358351</td>\n",
       "    </tr>\n",
       "    <tr>\n",
       "      <th>Annualized Sharpe Ratio</th>\n",
       "      <td>1.572409</td>\n",
       "    </tr>\n",
       "    <tr>\n",
       "      <th>Annualized Sortino Ratio</th>\n",
       "      <td>2.459251</td>\n",
       "    </tr>\n",
       "    <tr>\n",
       "      <th>Skewness</th>\n",
       "      <td>0.00438</td>\n",
       "    </tr>\n",
       "    <tr>\n",
       "      <th>Excess Kurtosis</th>\n",
       "      <td>1.899066</td>\n",
       "    </tr>\n",
       "    <tr>\n",
       "      <th>VaR (0.05)</th>\n",
       "      <td>-0.063723</td>\n",
       "    </tr>\n",
       "    <tr>\n",
       "      <th>CVaR (0.05)</th>\n",
       "      <td>-0.096174</td>\n",
       "    </tr>\n",
       "    <tr>\n",
       "      <th>Min</th>\n",
       "      <td>-0.223741</td>\n",
       "    </tr>\n",
       "    <tr>\n",
       "      <th>Max</th>\n",
       "      <td>0.193774</td>\n",
       "    </tr>\n",
       "    <tr>\n",
       "      <th>Max Drawdown</th>\n",
       "      <td>-0.383571</td>\n",
       "    </tr>\n",
       "    <tr>\n",
       "      <th>Bottom</th>\n",
       "      <td>2019-01-04 00:00:00</td>\n",
       "    </tr>\n",
       "    <tr>\n",
       "      <th>Peak</th>\n",
       "      <td>2023-07-14 00:00:00</td>\n",
       "    </tr>\n",
       "    <tr>\n",
       "      <th>Recovery</th>\n",
       "      <td>2019-11-08 00:00:00</td>\n",
       "    </tr>\n",
       "    <tr>\n",
       "      <th>Duration (days)</th>\n",
       "      <td>308</td>\n",
       "    </tr>\n",
       "    <tr>\n",
       "      <th>Calmar Ratio</th>\n",
       "      <td>1.46902</td>\n",
       "    </tr>\n",
       "  </tbody>\n",
       "</table>\n",
       "</div>"
      ],
      "text/plain": [
       "                                Tan Portfolio\n",
       "Annualized Return                    0.563474\n",
       "Annualized Volatility                0.358351\n",
       "Annualized Sharpe Ratio              1.572409\n",
       "Annualized Sortino Ratio             2.459251\n",
       "Skewness                              0.00438\n",
       "Excess Kurtosis                      1.899066\n",
       "VaR (0.05)                          -0.063723\n",
       "CVaR (0.05)                         -0.096174\n",
       "Min                                 -0.223741\n",
       "Max                                  0.193774\n",
       "Max Drawdown                        -0.383571\n",
       "Bottom                    2019-01-04 00:00:00\n",
       "Peak                      2023-07-14 00:00:00\n",
       "Recovery                  2019-11-08 00:00:00\n",
       "Duration (days)                           308\n",
       "Calmar Ratio                          1.46902"
      ]
     },
     "execution_count": 19,
     "metadata": {},
     "output_type": "execute_result"
    }
   ],
   "source": [
    "# Calculate the sharpe ratio of the tan portfolio\n",
    "tan_rets = retsx.dot(tan)\n",
    "calc_performance_metrics(tan_rets, adj=52).T"
   ]
  },
  {
   "cell_type": "markdown",
   "id": "eb1bab65",
   "metadata": {},
   "source": [
    "### 4.\n",
    "\n",
    "* What weight is given to the asset with the lowest Sharpe ratio?\n",
    "* What Sharpe ratio does the lowest (most negative) weight asset have?\n",
    "\n",
    "Explain why the weights are not most extreme for the assets with the largest/smallest Share Ratios."
   ]
  },
  {
   "cell_type": "code",
   "execution_count": 20,
   "id": "301626c3",
   "metadata": {},
   "outputs": [
    {
     "data": {
      "text/html": [
       "<div>\n",
       "<style scoped>\n",
       "    .dataframe tbody tr th:only-of-type {\n",
       "        vertical-align: middle;\n",
       "    }\n",
       "\n",
       "    .dataframe tbody tr th {\n",
       "        vertical-align: top;\n",
       "    }\n",
       "\n",
       "    .dataframe thead th {\n",
       "        text-align: right;\n",
       "    }\n",
       "</style>\n",
       "<table border=\"1\" class=\"dataframe\">\n",
       "  <thead>\n",
       "    <tr style=\"text-align: right;\">\n",
       "      <th></th>\n",
       "      <th>Annualized Return</th>\n",
       "      <th>Annualized Volatility</th>\n",
       "      <th>Annualized Sharpe Ratio</th>\n",
       "      <th>Annualized Sortino Ratio</th>\n",
       "      <th>Tan Portfolio</th>\n",
       "    </tr>\n",
       "  </thead>\n",
       "  <tbody>\n",
       "    <tr>\n",
       "      <th>AAPL</th>\n",
       "      <td>0.319421</td>\n",
       "      <td>0.283883</td>\n",
       "      <td>1.125183</td>\n",
       "      <td>1.569426</td>\n",
       "      <td>0.322605</td>\n",
       "    </tr>\n",
       "    <tr>\n",
       "      <th>MSFT</th>\n",
       "      <td>0.288087</td>\n",
       "      <td>0.240206</td>\n",
       "      <td>1.199334</td>\n",
       "      <td>1.705011</td>\n",
       "      <td>0.787496</td>\n",
       "    </tr>\n",
       "    <tr>\n",
       "      <th>AMZN</th>\n",
       "      <td>0.239457</td>\n",
       "      <td>0.310389</td>\n",
       "      <td>0.771474</td>\n",
       "      <td>1.108573</td>\n",
       "      <td>-0.228607</td>\n",
       "    </tr>\n",
       "    <tr>\n",
       "      <th>NVDA</th>\n",
       "      <td>0.650658</td>\n",
       "      <td>0.468096</td>\n",
       "      <td>1.390011</td>\n",
       "      <td>2.371656</td>\n",
       "      <td>0.495996</td>\n",
       "    </tr>\n",
       "    <tr>\n",
       "      <th>GOOGL</th>\n",
       "      <td>0.193328</td>\n",
       "      <td>0.274217</td>\n",
       "      <td>0.705020</td>\n",
       "      <td>1.120251</td>\n",
       "      <td>-0.502721</td>\n",
       "    </tr>\n",
       "    <tr>\n",
       "      <th>TSLA</th>\n",
       "      <td>0.569728</td>\n",
       "      <td>0.607026</td>\n",
       "      <td>0.938556</td>\n",
       "      <td>1.642329</td>\n",
       "      <td>0.105975</td>\n",
       "    </tr>\n",
       "    <tr>\n",
       "      <th>XOM</th>\n",
       "      <td>0.124196</td>\n",
       "      <td>0.311613</td>\n",
       "      <td>0.398557</td>\n",
       "      <td>0.571626</td>\n",
       "      <td>0.019257</td>\n",
       "    </tr>\n",
       "  </tbody>\n",
       "</table>\n",
       "</div>"
      ],
      "text/plain": [
       "       Annualized Return  Annualized Volatility  Annualized Sharpe Ratio  \\\n",
       "AAPL            0.319421               0.283883                 1.125183   \n",
       "MSFT            0.288087               0.240206                 1.199334   \n",
       "AMZN            0.239457               0.310389                 0.771474   \n",
       "NVDA            0.650658               0.468096                 1.390011   \n",
       "GOOGL           0.193328               0.274217                 0.705020   \n",
       "TSLA            0.569728               0.607026                 0.938556   \n",
       "XOM             0.124196               0.311613                 0.398557   \n",
       "\n",
       "       Annualized Sortino Ratio  Tan Portfolio  \n",
       "AAPL                   1.569426       0.322605  \n",
       "MSFT                   1.705011       0.787496  \n",
       "AMZN                   1.108573      -0.228607  \n",
       "NVDA                   2.371656       0.495996  \n",
       "GOOGL                  1.120251      -0.502721  \n",
       "TSLA                   1.642329       0.105975  \n",
       "XOM                    0.571626       0.019257  "
      ]
     },
     "execution_count": 20,
     "metadata": {},
     "output_type": "execute_result"
    }
   ],
   "source": [
    "# Merge Sharpe ratio on tan portfolio\n",
    "metrics = metrics.merge(tan, left_index=True, right_index=True)\n",
    "metrics"
   ]
  },
  {
   "cell_type": "markdown",
   "id": "f9c9fb9d",
   "metadata": {},
   "source": [
    "<font color=red>\n",
    "\n",
    "Lowest sharpe (XOM) reseives a 0.01 weight, which is in fact the lowest but notably we are not short it. GOOG has the most negative weight, even though it doesn't have the worst sharpe (second worst). \n",
    "\n",
    "Diversification, diversification, diversification. Just because an asset has a mediocre SR, it might be uncorrelated to other assets. Therefore, it can still be a very valuable addition to our portfolio, and thus might have a higher tangency weight. For example, the highest Sharpe asset (NVDA), does not have the highest weight.\n",
    "\n",
    "</font>"
   ]
  },
  {
   "cell_type": "markdown",
   "id": "f39c17ae-0af8-4a89-a27a-a199c0ce2c77",
   "metadata": {},
   "source": [
    "### 5.\n",
    "\n",
    "To target a mean return of `0.001` weekly, would you be invested in the risk-free rate or borrowing from the risk-free rate?"
   ]
  },
  {
   "cell_type": "code",
   "execution_count": 21,
   "id": "3da4fde9",
   "metadata": {},
   "outputs": [
    {
     "data": {
      "text/plain": [
       "0.09228463054305538"
      ]
     },
     "execution_count": 21,
     "metadata": {},
     "output_type": "execute_result"
    }
   ],
   "source": [
    "np.sum(calc_mv_portfolio(retsx.mean(), retsx.cov(), excess=True, target=0.001))"
   ]
  },
  {
   "cell_type": "markdown",
   "id": "d2097e9d",
   "metadata": {},
   "source": [
    "<font color='red'>\n",
    "\n",
    "The weights sum up to 0.092. Therefore, we would be invested in the risk-free rate (at a proportion of 1 - 0.092 = 0.908).\n",
    "\n",
    "</font>"
   ]
  },
  {
   "cell_type": "markdown",
   "id": "30cdbfa9",
   "metadata": {},
   "source": [
    "***"
   ]
  },
  {
   "cell_type": "markdown",
   "id": "a34d9fbd",
   "metadata": {},
   "source": [
    "# 3. Performance"
   ]
  },
  {
   "cell_type": "markdown",
   "id": "426af123",
   "metadata": {},
   "source": [
    "### 1. \n",
    "\n",
    "Report the following performance metrics of excess returns for Tesla (`TSLA`).\n",
    "* skewness\n",
    "* kurtosis\n",
    "\n",
    "You are not annualizing any of these stats.\n",
    "\n",
    "What do these metrics indicate about the nature of the returns?"
   ]
  },
  {
   "cell_type": "markdown",
   "id": "877253fc",
   "metadata": {},
   "source": [
    "### 2. \n",
    "\n",
    "Report the maximum drawdown for `TSLA` over the sample.\n",
    "* Ignore that your data is in excess returns rather than total returns.\n",
    "* Simply proceed with the excess return data for this calculation."
   ]
  },
  {
   "cell_type": "markdown",
   "id": "20d77a74",
   "metadata": {},
   "source": [
    "### 3.\n",
    "\n",
    "For `TSLA`, calculate the following metrics, relative to `SPY`:\n",
    "* market beta\n",
    "* alpha\n",
    "* information ratio\n",
    "\n",
    "Annualize alpha and information ratio.\n",
    "\n",
    "*Recall that this is weekly data, with 52 weeks per year.*"
   ]
  },
  {
   "cell_type": "markdown",
   "id": "695093a0-4a01-4d80-be8c-b5380ca50ea3",
   "metadata": {},
   "source": [
    "### 4.\n",
    "\n",
    "Comment on what you conclude about `TSLA` based on the statistics calculated in the previous question."
   ]
  },
  {
   "cell_type": "markdown",
   "id": "efee2bb2",
   "metadata": {},
   "source": [
    "***"
   ]
  },
  {
   "cell_type": "markdown",
   "id": "9bfde231-ece9-4d63-bf5c-f3d8154269bb",
   "metadata": {},
   "source": [
    "# 5. Forecasting"
   ]
  },
  {
   "cell_type": "markdown",
   "id": "d7910055-2d9f-4898-b56c-71236182f98d",
   "metadata": {},
   "source": [
    "Forecast (total) returns on oil as tracked by the ETF ticker, `USO`. \n",
    "\n",
    "As signals, use two interest rate signals, as seen in Treasury-notes. (No need to consider anything specific about Treasury notes, just read these as macroeconomic signals.)\n",
    "* T-note rate\n",
    "* month-over-month change in the T-note rate\n",
    "\n",
    "Find the all data needed for this problem in the sheet `forecasting`.\n",
    "\n",
    "Note that the data in this sheet is monthly, not weekly."
   ]
  },
  {
   "cell_type": "code",
   "execution_count": 22,
   "id": "2573ad5e",
   "metadata": {},
   "outputs": [],
   "source": [
    "forecasting = pd.read_excel(FILEIN, sheet_name='forecasting', index_col=0, parse_dates=[0])"
   ]
  },
  {
   "cell_type": "markdown",
   "id": "43b51c40-a422-45dd-8626-72b20fe28315",
   "metadata": {},
   "source": [
    "### 1.\n",
    "\n",
    "Estimate a forecasting regression of $\\targ$ on the two (lagged) signals.\n",
    "\n",
    "$$r_{t+1}^{\\targ} = \\alpha + \\beta^{x}x_t + \\beta^z z_t + \\epsilon_{t+1}$$\n",
    "\n",
    "where\n",
    "* $x$ denotes the interest-rate signal.\n",
    "* $z$ denotes the change in rate signal.\n",
    "\n",
    "Report the r-squared, as well as the OLS estimates for the intercept and the two betas. (No need to annualize the stats.)"
   ]
  },
  {
   "cell_type": "code",
   "execution_count": 23,
   "id": "e9429d99",
   "metadata": {},
   "outputs": [
    {
     "data": {
      "text/html": [
       "<div>\n",
       "<style scoped>\n",
       "    .dataframe tbody tr th:only-of-type {\n",
       "        vertical-align: middle;\n",
       "    }\n",
       "\n",
       "    .dataframe tbody tr th {\n",
       "        vertical-align: top;\n",
       "    }\n",
       "\n",
       "    .dataframe thead th {\n",
       "        text-align: right;\n",
       "    }\n",
       "</style>\n",
       "<table border=\"1\" class=\"dataframe\">\n",
       "  <thead>\n",
       "    <tr style=\"text-align: right;\">\n",
       "      <th></th>\n",
       "      <th>Alpha</th>\n",
       "      <th>R-Squared</th>\n",
       "      <th>Tnote rate Beta</th>\n",
       "      <th>Tnote rate change Beta</th>\n",
       "      <th>Information Ratio</th>\n",
       "      <th>Tracking Error</th>\n",
       "    </tr>\n",
       "  </thead>\n",
       "  <tbody>\n",
       "    <tr>\n",
       "      <th>USO</th>\n",
       "      <td>0.241445</td>\n",
       "      <td>0.028137</td>\n",
       "      <td>-0.009569</td>\n",
       "      <td>0.074061</td>\n",
       "      <td>0.687085</td>\n",
       "      <td>0.351405</td>\n",
       "    </tr>\n",
       "  </tbody>\n",
       "</table>\n",
       "</div>"
      ],
      "text/plain": [
       "        Alpha  R-Squared  Tnote rate Beta  Tnote rate change Beta  \\\n",
       "USO  0.241445   0.028137        -0.009569                0.074061   \n",
       "\n",
       "     Information Ratio  Tracking Error  \n",
       "USO           0.687085        0.351405  "
      ]
     },
     "execution_count": 23,
     "metadata": {},
     "output_type": "execute_result"
    }
   ],
   "source": [
    "USO = forecasting.loc[:,['USO']]\n",
    "signal = ['Tnote rate','Tnote rate change']\n",
    "factors = forecasting.loc[:,['Tnote rate','Tnote rate change']].shift(1)\n",
    "signal_reg = calc_multivariate_regression(USO, factors)\n",
    "signal_reg"
   ]
  },
  {
   "cell_type": "markdown",
   "id": "ff4dab26",
   "metadata": {},
   "source": [
    "<font color='red'>\n",
    "Note: with annualization the alpha would be 0.24144/12 =  0.02012\n",
    "</font>"
   ]
  },
  {
   "cell_type": "markdown",
   "id": "f5cf4764-2c77-4a08-8c48-dede97175a43",
   "metadata": {},
   "source": [
    "### 2.\n",
    "\n",
    "Use your forecasted returns, $\\hat{r}^{\\targ}_{t+1}$ to build trading weights:\n",
    "\n",
    "$$w_t = 0.50 + 50\\;\\hat{r}^{\\targ}_{t+1}$$\n",
    "\n",
    "(So the rule says to hold 50% in the ETF plus/minus 50x the forecast. Recall the forecast is a monthly percentage, so it is a small number.)\n",
    "\n",
    "Calculate the return from implementing this strategy. Denote this as $r^x_t$.\n",
    "\n",
    "Report the first and last 5 values."
   ]
  },
  {
   "cell_type": "code",
   "execution_count": 24,
   "id": "a0a9aba6",
   "metadata": {},
   "outputs": [
    {
     "data": {
      "text/html": [
       "<div>\n",
       "<style scoped>\n",
       "    .dataframe tbody tr th:only-of-type {\n",
       "        vertical-align: middle;\n",
       "    }\n",
       "\n",
       "    .dataframe tbody tr th {\n",
       "        vertical-align: top;\n",
       "    }\n",
       "\n",
       "    .dataframe thead th {\n",
       "        text-align: right;\n",
       "    }\n",
       "</style>\n",
       "<table border=\"1\" class=\"dataframe\">\n",
       "  <thead>\n",
       "    <tr style=\"text-align: right;\">\n",
       "      <th></th>\n",
       "      <th>Forecasted Return</th>\n",
       "    </tr>\n",
       "    <tr>\n",
       "      <th>date</th>\n",
       "      <th></th>\n",
       "    </tr>\n",
       "  </thead>\n",
       "  <tbody>\n",
       "    <tr>\n",
       "      <th>2009-06-30</th>\n",
       "      <td>0.046697</td>\n",
       "    </tr>\n",
       "    <tr>\n",
       "      <th>2009-07-31</th>\n",
       "      <td>-0.001041</td>\n",
       "    </tr>\n",
       "    <tr>\n",
       "      <th>2009-08-31</th>\n",
       "      <td>0.005171</td>\n",
       "    </tr>\n",
       "    <tr>\n",
       "      <th>2009-09-30</th>\n",
       "      <td>-0.001909</td>\n",
       "    </tr>\n",
       "    <tr>\n",
       "      <th>2009-10-31</th>\n",
       "      <td>-0.036695</td>\n",
       "    </tr>\n",
       "  </tbody>\n",
       "</table>\n",
       "</div>"
      ],
      "text/plain": [
       "            Forecasted Return\n",
       "date                         \n",
       "2009-06-30           0.046697\n",
       "2009-07-31          -0.001041\n",
       "2009-08-31           0.005171\n",
       "2009-09-30          -0.001909\n",
       "2009-10-31          -0.036695"
      ]
     },
     "metadata": {},
     "output_type": "display_data"
    },
    {
     "data": {
      "text/html": [
       "<div>\n",
       "<style scoped>\n",
       "    .dataframe tbody tr th:only-of-type {\n",
       "        vertical-align: middle;\n",
       "    }\n",
       "\n",
       "    .dataframe tbody tr th {\n",
       "        vertical-align: top;\n",
       "    }\n",
       "\n",
       "    .dataframe thead th {\n",
       "        text-align: right;\n",
       "    }\n",
       "</style>\n",
       "<table border=\"1\" class=\"dataframe\">\n",
       "  <thead>\n",
       "    <tr style=\"text-align: right;\">\n",
       "      <th></th>\n",
       "      <th>Forecasted Return</th>\n",
       "    </tr>\n",
       "    <tr>\n",
       "      <th>date</th>\n",
       "      <th></th>\n",
       "    </tr>\n",
       "  </thead>\n",
       "  <tbody>\n",
       "    <tr>\n",
       "      <th>2023-07-31</th>\n",
       "      <td>0.053407</td>\n",
       "    </tr>\n",
       "    <tr>\n",
       "      <th>2023-08-31</th>\n",
       "      <td>0.003366</td>\n",
       "    </tr>\n",
       "    <tr>\n",
       "      <th>2023-09-30</th>\n",
       "      <td>0.003397</td>\n",
       "    </tr>\n",
       "    <tr>\n",
       "      <th>2023-10-31</th>\n",
       "      <td>-0.079126</td>\n",
       "    </tr>\n",
       "    <tr>\n",
       "      <th>2023-11-30</th>\n",
       "      <td>-0.009729</td>\n",
       "    </tr>\n",
       "  </tbody>\n",
       "</table>\n",
       "</div>"
      ],
      "text/plain": [
       "            Forecasted Return\n",
       "date                         \n",
       "2023-07-31           0.053407\n",
       "2023-08-31           0.003366\n",
       "2023-09-30           0.003397\n",
       "2023-10-31          -0.079126\n",
       "2023-11-30          -0.009729"
      ]
     },
     "metadata": {},
     "output_type": "display_data"
    }
   ],
   "source": [
    "forecasted_rets = (np.array(forecasting.shift(1).loc[:,['Tnote rate','Tnote rate change']]) \n",
    "                   @ np.array(signal_reg.loc[:,['Tnote rate Beta','Tnote rate change Beta']].T))\n",
    "\n",
    "forecast_ret = (pd.DataFrame(forecasted_rets,columns = ['Forecasted Return'],index= forecasting.index)) \n",
    "\n",
    "forecast_ret['Forecasted Return'] = (forecast_ret['Forecasted Return'] + \n",
    "                                     float(signal_reg['Alpha'] / 12))*50 + 0.5\n",
    "\n",
    "strat = pd.DataFrame(forecast_ret['Forecasted Return'] * forecasting.loc[:,['USO']]['USO'], \n",
    "                     columns=forecast_ret.columns, \n",
    "                     index=forecast_ret.index).dropna()\n",
    "\n",
    "display(strat.head())\n",
    "\n",
    "display(strat.tail())"
   ]
  },
  {
   "cell_type": "markdown",
   "id": "4a8feaf9-93df-4209-af25-1d57c31d92fd",
   "metadata": {},
   "source": [
    "### 3.\n",
    "\n",
    "Calculate the following (annualized) performance metrics for both the passive investment, $r^\\targ$, as well as the strategy implemented in the previous problem, $r^x$.\n",
    "\n",
    "* mean\n",
    "* volatility\n",
    "* max drawdown\n",
    "\n",
    "**Remember to annualize mean and volatility for monthly data.** (No need to annualize max drawdown.)"
   ]
  },
  {
   "cell_type": "code",
   "execution_count": 25,
   "id": "199ee2a5",
   "metadata": {},
   "outputs": [
    {
     "data": {
      "text/html": [
       "<div>\n",
       "<style scoped>\n",
       "    .dataframe tbody tr th:only-of-type {\n",
       "        vertical-align: middle;\n",
       "    }\n",
       "\n",
       "    .dataframe tbody tr th {\n",
       "        vertical-align: top;\n",
       "    }\n",
       "\n",
       "    .dataframe thead th {\n",
       "        text-align: right;\n",
       "    }\n",
       "</style>\n",
       "<table border=\"1\" class=\"dataframe\">\n",
       "  <thead>\n",
       "    <tr style=\"text-align: right;\">\n",
       "      <th></th>\n",
       "      <th>Forecasted Return</th>\n",
       "      <th>USO</th>\n",
       "    </tr>\n",
       "  </thead>\n",
       "  <tbody>\n",
       "    <tr>\n",
       "      <th>Annualized Return</th>\n",
       "      <td>0.168447</td>\n",
       "      <td>-0.022956</td>\n",
       "    </tr>\n",
       "    <tr>\n",
       "      <th>Annualized Volatility</th>\n",
       "      <td>0.3066</td>\n",
       "      <td>0.356455</td>\n",
       "    </tr>\n",
       "    <tr>\n",
       "      <th>Annualized Sharpe Ratio</th>\n",
       "      <td>0.549401</td>\n",
       "      <td>-0.0644</td>\n",
       "    </tr>\n",
       "    <tr>\n",
       "      <th>Annualized Sortino Ratio</th>\n",
       "      <td>0.867917</td>\n",
       "      <td>-0.077082</td>\n",
       "    </tr>\n",
       "    <tr>\n",
       "      <th>Skewness</th>\n",
       "      <td>0.799252</td>\n",
       "      <td>-1.137681</td>\n",
       "    </tr>\n",
       "    <tr>\n",
       "      <th>Excess Kurtosis</th>\n",
       "      <td>3.559352</td>\n",
       "      <td>6.016314</td>\n",
       "    </tr>\n",
       "    <tr>\n",
       "      <th>VaR (0.05)</th>\n",
       "      <td>-0.11783</td>\n",
       "      <td>-0.162767</td>\n",
       "    </tr>\n",
       "    <tr>\n",
       "      <th>CVaR (0.05)</th>\n",
       "      <td>-0.168903</td>\n",
       "      <td>-0.256975</td>\n",
       "    </tr>\n",
       "    <tr>\n",
       "      <th>Min</th>\n",
       "      <td>-0.275698</td>\n",
       "      <td>-0.554497</td>\n",
       "    </tr>\n",
       "    <tr>\n",
       "      <th>Max</th>\n",
       "      <td>0.401469</td>\n",
       "      <td>0.353556</td>\n",
       "    </tr>\n",
       "    <tr>\n",
       "      <th>Max Drawdown</th>\n",
       "      <td>-0.653193</td>\n",
       "      <td>-0.947065</td>\n",
       "    </tr>\n",
       "    <tr>\n",
       "      <th>Bottom</th>\n",
       "      <td>2020-01-31 00:00:00</td>\n",
       "      <td>2020-04-30 00:00:00</td>\n",
       "    </tr>\n",
       "    <tr>\n",
       "      <th>Peak</th>\n",
       "      <td>2023-09-30 00:00:00</td>\n",
       "      <td>2011-04-30 00:00:00</td>\n",
       "    </tr>\n",
       "    <tr>\n",
       "      <th>Recovery</th>\n",
       "      <td>2020-12-31 00:00:00</td>\n",
       "      <td>-</td>\n",
       "    </tr>\n",
       "    <tr>\n",
       "      <th>Duration (days)</th>\n",
       "      <td>335</td>\n",
       "      <td>-</td>\n",
       "    </tr>\n",
       "    <tr>\n",
       "      <th>Calmar Ratio</th>\n",
       "      <td>0.257882</td>\n",
       "      <td>-0.024239</td>\n",
       "    </tr>\n",
       "  </tbody>\n",
       "</table>\n",
       "</div>"
      ],
      "text/plain": [
       "                            Forecasted Return                  USO\n",
       "Annualized Return                    0.168447            -0.022956\n",
       "Annualized Volatility                  0.3066             0.356455\n",
       "Annualized Sharpe Ratio              0.549401              -0.0644\n",
       "Annualized Sortino Ratio             0.867917            -0.077082\n",
       "Skewness                             0.799252            -1.137681\n",
       "Excess Kurtosis                      3.559352             6.016314\n",
       "VaR (0.05)                           -0.11783            -0.162767\n",
       "CVaR (0.05)                         -0.168903            -0.256975\n",
       "Min                                 -0.275698            -0.554497\n",
       "Max                                  0.401469             0.353556\n",
       "Max Drawdown                        -0.653193            -0.947065\n",
       "Bottom                    2020-01-31 00:00:00  2020-04-30 00:00:00\n",
       "Peak                      2023-09-30 00:00:00  2011-04-30 00:00:00\n",
       "Recovery                  2020-12-31 00:00:00                    -\n",
       "Duration (days)                           335                    -\n",
       "Calmar Ratio                         0.257882            -0.024239"
      ]
     },
     "execution_count": 25,
     "metadata": {},
     "output_type": "execute_result"
    }
   ],
   "source": [
    "strat = strat.merge(forecasting[['USO']], left_index = True, right_index = True)\n",
    "\n",
    "calc_performance_metrics(strat[['Forecasted Return', 'USO']]).T"
   ]
  },
  {
   "cell_type": "markdown",
   "id": "2b2105e3-4ed2-4cea-8842-20821f86b970",
   "metadata": {},
   "source": [
    "### 4.\n",
    "\n",
    "Comment on whether the active strategy (using forecasting), $r^z$ is an improvement on the passive strategy of just holding $\\targ$ directly.\n",
    "\n",
    "<font color='red'>\n",
    "\n",
    "It does pretty well. The Sharpe ratio is much better, and it has a much higher mean return whilst having lowe volatility. It also performs better in max-drawdown.\n",
    "\n",
    "</font>"
   ]
  }
 ],
 "metadata": {
  "hide_input": false,
  "kernelspec": {
   "display_name": "Python 3 (ipykernel)",
   "language": "python",
   "name": "python3"
  },
  "language_info": {
   "codemirror_mode": {
    "name": "ipython",
    "version": 3
   },
   "file_extension": ".py",
   "mimetype": "text/x-python",
   "name": "python",
   "nbconvert_exporter": "python",
   "pygments_lexer": "ipython3",
   "version": "3.10.14"
  }
 },
 "nbformat": 4,
 "nbformat_minor": 5
}
